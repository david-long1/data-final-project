{
 "cells": [
  {
   "cell_type": "code",
   "execution_count": 1,
   "id": "497b6978",
   "metadata": {
    "deletable": false,
    "editable": false
   },
   "outputs": [],
   "source": [
    "# Initialize Otter\n",
    "import otter\n",
    "grader = otter.Notebook(\"AQI.ipynb\")"
   ]
  },
  {
   "cell_type": "markdown",
   "id": "3c611a37",
   "metadata": {},
   "source": [
    "# Final Project: Air Quality Dataset\n",
    "## Analyzing and Predicting AQI Data through Modeling\n",
    "## Due Date: Thursday, December 17th, 11:59 PM\n",
    "## Collaboration Policy\n",
    "\n",
    "Data science is a collaborative activity. While you may talk with other groups about\n",
    "the project, we ask that you **write your solutions individually**. If you do\n",
    "discuss the assignments with others outside of your group please **include their names** at the top\n",
    "of your notebook."
   ]
  },
  {
   "cell_type": "markdown",
   "id": "299ff619",
   "metadata": {},
   "source": [
    "## This Assignment\n",
    "\n",
    "In this final project, we will investigate AQI data for the year 2020 from **USA EPA** data. All the data used for this project can be accessed from the [EPA Website](https://aqs.epa.gov/aqsweb/airdata/download_files.html), which we will pull from directly in this notebook. This dataset contains geographical and time-series data on various factors that contribute to AQI from all government sites. The main goal at the end for you will be to understand how AQI varies both geographically and over time, and use your analysis (as well as other data that you can find) to be predict AQI at a certain point in time for various locations in California.\n",
    "\n",
    "Through this final project, you will demonstrate your experience with:\n",
    "* EDA and merging on location using Pandas\n",
    "* Unsupervised and supervised learning techniques\n",
    "* Visualization and interpolation\n",
    "\n",
    "This is **part 1** of the project, which includes the data cleaning, guided EDA and open-ended EDA components of the project. This will help you for part 2, where you will be completing the modeling component. "
   ]
  },
  {
   "cell_type": "code",
   "execution_count": 2,
   "id": "5e624bff",
   "metadata": {},
   "outputs": [],
   "source": [
    "import pandas as pd\n",
    "import numpy as np\n",
    "import seaborn as sns\n",
    "import matplotlib.pyplot as plt\n",
    "import re\n",
    "import geopandas as gpd\n",
    "\n",
    "import os\n",
    "import requests, zipfile, io\n",
    "\n",
    "import warnings\n",
    "warnings.filterwarnings('ignore')"
   ]
  },
  {
   "cell_type": "markdown",
   "id": "fa57f0ee-4079-4638-9775-3157d1308ba8",
   "metadata": {
    "tags": []
   },
   "source": [
    "<br/><br/>\n",
    "\n",
    "---\n",
    "## Section 1: Data Cleaning\n",
    "\n",
    "As mentioned, we will be using the **US EPA** data from the EPA website. Below is a dataframe of the files we will be using for the project. The following two cells will download the data and put it into a dictionary called `epa_data`."
   ]
  },
  {
   "cell_type": "code",
   "execution_count": 3,
   "id": "c875d9e9",
   "metadata": {},
   "outputs": [
    {
     "data": {
      "text/html": [
       "<div>\n",
       "<style scoped>\n",
       "    .dataframe tbody tr th:only-of-type {\n",
       "        vertical-align: middle;\n",
       "    }\n",
       "\n",
       "    .dataframe tbody tr th {\n",
       "        vertical-align: top;\n",
       "    }\n",
       "\n",
       "    .dataframe thead th {\n",
       "        text-align: right;\n",
       "    }\n",
       "</style>\n",
       "<table border=\"1\" class=\"dataframe\">\n",
       "  <thead>\n",
       "    <tr style=\"text-align: right;\">\n",
       "      <th></th>\n",
       "      <th>name</th>\n",
       "      <th>epa_filename</th>\n",
       "    </tr>\n",
       "  </thead>\n",
       "  <tbody>\n",
       "    <tr>\n",
       "      <th>0</th>\n",
       "      <td>annual_county_aqi</td>\n",
       "      <td>annual_aqi_by_county_2020</td>\n",
       "    </tr>\n",
       "    <tr>\n",
       "      <th>1</th>\n",
       "      <td>daily_county_aqi</td>\n",
       "      <td>daily_aqi_by_county_2020</td>\n",
       "    </tr>\n",
       "    <tr>\n",
       "      <th>2</th>\n",
       "      <td>daily_ozone</td>\n",
       "      <td>daily_44201_2020</td>\n",
       "    </tr>\n",
       "    <tr>\n",
       "      <th>3</th>\n",
       "      <td>daily_so2</td>\n",
       "      <td>daily_42401_2020</td>\n",
       "    </tr>\n",
       "    <tr>\n",
       "      <th>4</th>\n",
       "      <td>daily_co</td>\n",
       "      <td>daily_42101_2020</td>\n",
       "    </tr>\n",
       "    <tr>\n",
       "      <th>5</th>\n",
       "      <td>daily_no2</td>\n",
       "      <td>daily_42602_2020</td>\n",
       "    </tr>\n",
       "    <tr>\n",
       "      <th>6</th>\n",
       "      <td>daily_temp</td>\n",
       "      <td>daily_WIND_2020</td>\n",
       "    </tr>\n",
       "    <tr>\n",
       "      <th>7</th>\n",
       "      <td>daily_wind</td>\n",
       "      <td>daily_TEMP_2020</td>\n",
       "    </tr>\n",
       "    <tr>\n",
       "      <th>8</th>\n",
       "      <td>aqs_sites</td>\n",
       "      <td>aqs_sites</td>\n",
       "    </tr>\n",
       "  </tbody>\n",
       "</table>\n",
       "</div>"
      ],
      "text/plain": [
       "                name               epa_filename\n",
       "0  annual_county_aqi  annual_aqi_by_county_2020\n",
       "1   daily_county_aqi   daily_aqi_by_county_2020\n",
       "2        daily_ozone           daily_44201_2020\n",
       "3          daily_so2           daily_42401_2020\n",
       "4           daily_co           daily_42101_2020\n",
       "5          daily_no2           daily_42602_2020\n",
       "6         daily_temp            daily_WIND_2020\n",
       "7         daily_wind            daily_TEMP_2020\n",
       "8          aqs_sites                  aqs_sites"
      ]
     },
     "execution_count": 3,
     "metadata": {},
     "output_type": "execute_result"
    }
   ],
   "source": [
    "epa_weburl = \"https://web.archive.org/web/20211118232504/https://aqs.epa.gov/aqsweb/airdata/\"\n",
    "epa_filenames = pd.read_csv(\"data/epa_filenames.csv\")\n",
    "epa_filenames\n"
   ]
  },
  {
   "cell_type": "markdown",
   "id": "37d5a045",
   "metadata": {},
   "source": [
    "Below is code that we used to extract the code from the AQI website, which we encourage you to understand! This will pull directly from the website urls and put it into your `data/` folder. "
   ]
  },
  {
   "cell_type": "code",
   "execution_count": 4,
   "id": "45792402",
   "metadata": {},
   "outputs": [],
   "source": [
    "\n",
    "# epa_data = {}\n",
    "# for name, filename in zip(epa_filenames['name'], epa_filenames['epa_filename']):\n",
    "#     path_name = 'data/{}'.format(name)\n",
    "#     # if not os.path.isdir(path_name): \n",
    "#     data_url = '{}{}.zip'.format(epa_weburl, filename)\n",
    "#     req = requests.get(data_url)\n",
    "#     z = zipfile.ZipFile(io.BytesIO(req.content))\n",
    "#     z.extractall(path_name)\n",
    "#     data = pd.read_csv(f'data/{name}/{filename}.csv')\n",
    "#     epa_data[name] = data\n",
    "    \n",
    "epa_data = {}\n",
    "for name, filename in zip(epa_filenames['name'], epa_filenames['epa_filename']):\n",
    "    path_name = 'data/{}'.format(name)\n",
    "    if not os.path.isdir(path_name):\n",
    "        data_url = '{}{}.zip'.format(epa_weburl, filename)\n",
    "        req = requests.get(data_url)\n",
    "        z = zipfile.ZipFile(io.BytesIO(req.content))\n",
    "        z.extractall(path_name)\n",
    "    data = pd.read_csv(f'data/{name}/{filename}.csv')\n",
    "    epa_data[name] = data"
   ]
  },
  {
   "cell_type": "markdown",
   "id": "f86fef96",
   "metadata": {},
   "source": [
    "Use the below cell to explore each of the datasets, which can be accessed using the keys in the `name` column of `epa_filenames` above. Currently, the cell is viewing the `annual_county_aqi` dataset, but feel free to change it to whichever dataset you want to explore. "
   ]
  },
  {
   "cell_type": "code",
   "execution_count": 5,
   "id": "4a83d60d",
   "metadata": {},
   "outputs": [
    {
     "data": {
      "text/html": [
       "<div>\n",
       "<style scoped>\n",
       "    .dataframe tbody tr th:only-of-type {\n",
       "        vertical-align: middle;\n",
       "    }\n",
       "\n",
       "    .dataframe tbody tr th {\n",
       "        vertical-align: top;\n",
       "    }\n",
       "\n",
       "    .dataframe thead th {\n",
       "        text-align: right;\n",
       "    }\n",
       "</style>\n",
       "<table border=\"1\" class=\"dataframe\">\n",
       "  <thead>\n",
       "    <tr style=\"text-align: right;\">\n",
       "      <th></th>\n",
       "      <th>State</th>\n",
       "      <th>County</th>\n",
       "      <th>Year</th>\n",
       "      <th>Days with AQI</th>\n",
       "      <th>Good Days</th>\n",
       "      <th>Moderate Days</th>\n",
       "      <th>Unhealthy for Sensitive Groups Days</th>\n",
       "      <th>Unhealthy Days</th>\n",
       "      <th>Very Unhealthy Days</th>\n",
       "      <th>Hazardous Days</th>\n",
       "      <th>Max AQI</th>\n",
       "      <th>90th Percentile AQI</th>\n",
       "      <th>Median AQI</th>\n",
       "      <th>Days CO</th>\n",
       "      <th>Days NO2</th>\n",
       "      <th>Days Ozone</th>\n",
       "      <th>Days SO2</th>\n",
       "      <th>Days PM2.5</th>\n",
       "      <th>Days PM10</th>\n",
       "    </tr>\n",
       "  </thead>\n",
       "  <tbody>\n",
       "    <tr>\n",
       "      <th>0</th>\n",
       "      <td>Alabama</td>\n",
       "      <td>Baldwin</td>\n",
       "      <td>2020</td>\n",
       "      <td>269</td>\n",
       "      <td>250</td>\n",
       "      <td>19</td>\n",
       "      <td>0</td>\n",
       "      <td>0</td>\n",
       "      <td>0</td>\n",
       "      <td>0</td>\n",
       "      <td>74</td>\n",
       "      <td>49</td>\n",
       "      <td>36</td>\n",
       "      <td>0</td>\n",
       "      <td>0</td>\n",
       "      <td>198</td>\n",
       "      <td>0</td>\n",
       "      <td>71</td>\n",
       "      <td>0</td>\n",
       "    </tr>\n",
       "    <tr>\n",
       "      <th>1</th>\n",
       "      <td>Alabama</td>\n",
       "      <td>Clay</td>\n",
       "      <td>2020</td>\n",
       "      <td>108</td>\n",
       "      <td>99</td>\n",
       "      <td>9</td>\n",
       "      <td>0</td>\n",
       "      <td>0</td>\n",
       "      <td>0</td>\n",
       "      <td>0</td>\n",
       "      <td>86</td>\n",
       "      <td>49</td>\n",
       "      <td>26</td>\n",
       "      <td>0</td>\n",
       "      <td>0</td>\n",
       "      <td>0</td>\n",
       "      <td>0</td>\n",
       "      <td>108</td>\n",
       "      <td>0</td>\n",
       "    </tr>\n",
       "    <tr>\n",
       "      <th>2</th>\n",
       "      <td>Alabama</td>\n",
       "      <td>DeKalb</td>\n",
       "      <td>2020</td>\n",
       "      <td>364</td>\n",
       "      <td>350</td>\n",
       "      <td>14</td>\n",
       "      <td>0</td>\n",
       "      <td>0</td>\n",
       "      <td>0</td>\n",
       "      <td>0</td>\n",
       "      <td>90</td>\n",
       "      <td>45</td>\n",
       "      <td>36</td>\n",
       "      <td>0</td>\n",
       "      <td>0</td>\n",
       "      <td>331</td>\n",
       "      <td>0</td>\n",
       "      <td>33</td>\n",
       "      <td>0</td>\n",
       "    </tr>\n",
       "    <tr>\n",
       "      <th>3</th>\n",
       "      <td>Alabama</td>\n",
       "      <td>Elmore</td>\n",
       "      <td>2020</td>\n",
       "      <td>197</td>\n",
       "      <td>197</td>\n",
       "      <td>0</td>\n",
       "      <td>0</td>\n",
       "      <td>0</td>\n",
       "      <td>0</td>\n",
       "      <td>0</td>\n",
       "      <td>47</td>\n",
       "      <td>41</td>\n",
       "      <td>31</td>\n",
       "      <td>0</td>\n",
       "      <td>0</td>\n",
       "      <td>197</td>\n",
       "      <td>0</td>\n",
       "      <td>0</td>\n",
       "      <td>0</td>\n",
       "    </tr>\n",
       "    <tr>\n",
       "      <th>4</th>\n",
       "      <td>Alabama</td>\n",
       "      <td>Etowah</td>\n",
       "      <td>2020</td>\n",
       "      <td>278</td>\n",
       "      <td>260</td>\n",
       "      <td>18</td>\n",
       "      <td>0</td>\n",
       "      <td>0</td>\n",
       "      <td>0</td>\n",
       "      <td>0</td>\n",
       "      <td>92</td>\n",
       "      <td>46</td>\n",
       "      <td>34</td>\n",
       "      <td>0</td>\n",
       "      <td>0</td>\n",
       "      <td>204</td>\n",
       "      <td>0</td>\n",
       "      <td>74</td>\n",
       "      <td>0</td>\n",
       "    </tr>\n",
       "  </tbody>\n",
       "</table>\n",
       "</div>"
      ],
      "text/plain": [
       "     State   County  Year  Days with AQI  Good Days  Moderate Days  \\\n",
       "0  Alabama  Baldwin  2020            269        250             19   \n",
       "1  Alabama     Clay  2020            108         99              9   \n",
       "2  Alabama   DeKalb  2020            364        350             14   \n",
       "3  Alabama   Elmore  2020            197        197              0   \n",
       "4  Alabama   Etowah  2020            278        260             18   \n",
       "\n",
       "   Unhealthy for Sensitive Groups Days  Unhealthy Days  Very Unhealthy Days  \\\n",
       "0                                    0               0                    0   \n",
       "1                                    0               0                    0   \n",
       "2                                    0               0                    0   \n",
       "3                                    0               0                    0   \n",
       "4                                    0               0                    0   \n",
       "\n",
       "   Hazardous Days  Max AQI  90th Percentile AQI  Median AQI  Days CO  \\\n",
       "0               0       74                   49          36        0   \n",
       "1               0       86                   49          26        0   \n",
       "2               0       90                   45          36        0   \n",
       "3               0       47                   41          31        0   \n",
       "4               0       92                   46          34        0   \n",
       "\n",
       "   Days NO2  Days Ozone  Days SO2  Days PM2.5  Days PM10  \n",
       "0         0         198         0          71          0  \n",
       "1         0           0         0         108          0  \n",
       "2         0         331         0          33          0  \n",
       "3         0         197         0           0          0  \n",
       "4         0         204         0          74          0  "
      ]
     },
     "execution_count": 5,
     "metadata": {},
     "output_type": "execute_result"
    }
   ],
   "source": [
    "epa_data.get('annual_county_aqi').head()"
   ]
  },
  {
   "cell_type": "markdown",
   "id": "bb2e3c82",
   "metadata": {
    "deletable": false,
    "editable": false
   },
   "source": [
    "<!-- BEGIN QUESTION -->\n",
    "\n",
    "<br/>\n",
    "\n",
    "### Question 0: Understanding the Data\n",
    "\n",
    "Notice that for the table `annual_county_aqi`, the 90th percentile AQI is reported as a column. Why would the 90th percentile AQI be useful as opposed to the maximum? What does it mean when the difference between the 90th percentile AQI and Max AQI is very large compared to the difference between the 90th percentile AQI and the median AQI?\n",
    "\n",
    "<!--\n",
    "BEGIN QUESTION\n",
    "name: q0\n",
    "manual: True\n",
    "points: 2\n",
    "-->"
   ]
  },
  {
   "cell_type": "markdown",
   "id": "09a64f72",
   "metadata": {},
   "source": [
    "We use 90th percentile AQI to prevent extreme outliers from biasing the data. If the difference between the 90th percentile AQI and MAX AQI is very large, then there exists some extreme outliers. "
   ]
  },
  {
   "cell_type": "markdown",
   "id": "f81fa62f",
   "metadata": {
    "deletable": false,
    "editable": false
   },
   "source": [
    "<!-- END QUESTION -->\n",
    "\n",
    "<br/>\n",
    "\n",
    "### Question 1a: Creating Month and Day Columns\n",
    "\n",
    "In the `daily_county_aqi` table in `epa_data`, add two new columns called `Day` and `Month` that denote the day and month, respectively, of the AQI reading. The day and month should both be reported as an **integer** as opposed to a string (`Jan`, `Feb`, etc.)\n",
    "\n",
    "hint: `pd.to_datetime` may be useful.\n",
    "\n",
    "<!--\n",
    "BEGIN QUESTION\n",
    "name: q1a\n",
    "points: 1\n",
    "-->"
   ]
  },
  {
   "cell_type": "code",
   "execution_count": 6,
   "id": "e3287b23",
   "metadata": {},
   "outputs": [
    {
     "data": {
      "text/html": [
       "<div>\n",
       "<style scoped>\n",
       "    .dataframe tbody tr th:only-of-type {\n",
       "        vertical-align: middle;\n",
       "    }\n",
       "\n",
       "    .dataframe tbody tr th {\n",
       "        vertical-align: top;\n",
       "    }\n",
       "\n",
       "    .dataframe thead th {\n",
       "        text-align: right;\n",
       "    }\n",
       "</style>\n",
       "<table border=\"1\" class=\"dataframe\">\n",
       "  <thead>\n",
       "    <tr style=\"text-align: right;\">\n",
       "      <th></th>\n",
       "      <th>State Name</th>\n",
       "      <th>county Name</th>\n",
       "      <th>State Code</th>\n",
       "      <th>County Code</th>\n",
       "      <th>Date</th>\n",
       "      <th>AQI</th>\n",
       "      <th>Category</th>\n",
       "      <th>Defining Parameter</th>\n",
       "      <th>Defining Site</th>\n",
       "      <th>Number of Sites Reporting</th>\n",
       "      <th>Month</th>\n",
       "      <th>Day</th>\n",
       "    </tr>\n",
       "  </thead>\n",
       "  <tbody>\n",
       "    <tr>\n",
       "      <th>0</th>\n",
       "      <td>Alabama</td>\n",
       "      <td>Baldwin</td>\n",
       "      <td>1</td>\n",
       "      <td>3</td>\n",
       "      <td>2020-01-01</td>\n",
       "      <td>48</td>\n",
       "      <td>Good</td>\n",
       "      <td>PM2.5</td>\n",
       "      <td>01-003-0010</td>\n",
       "      <td>1</td>\n",
       "      <td>1</td>\n",
       "      <td>1</td>\n",
       "    </tr>\n",
       "    <tr>\n",
       "      <th>1</th>\n",
       "      <td>Alabama</td>\n",
       "      <td>Baldwin</td>\n",
       "      <td>1</td>\n",
       "      <td>3</td>\n",
       "      <td>2020-01-04</td>\n",
       "      <td>13</td>\n",
       "      <td>Good</td>\n",
       "      <td>PM2.5</td>\n",
       "      <td>01-003-0010</td>\n",
       "      <td>1</td>\n",
       "      <td>1</td>\n",
       "      <td>4</td>\n",
       "    </tr>\n",
       "    <tr>\n",
       "      <th>2</th>\n",
       "      <td>Alabama</td>\n",
       "      <td>Baldwin</td>\n",
       "      <td>1</td>\n",
       "      <td>3</td>\n",
       "      <td>2020-01-07</td>\n",
       "      <td>14</td>\n",
       "      <td>Good</td>\n",
       "      <td>PM2.5</td>\n",
       "      <td>01-003-0010</td>\n",
       "      <td>1</td>\n",
       "      <td>1</td>\n",
       "      <td>7</td>\n",
       "    </tr>\n",
       "    <tr>\n",
       "      <th>3</th>\n",
       "      <td>Alabama</td>\n",
       "      <td>Baldwin</td>\n",
       "      <td>1</td>\n",
       "      <td>3</td>\n",
       "      <td>2020-01-10</td>\n",
       "      <td>39</td>\n",
       "      <td>Good</td>\n",
       "      <td>PM2.5</td>\n",
       "      <td>01-003-0010</td>\n",
       "      <td>1</td>\n",
       "      <td>1</td>\n",
       "      <td>10</td>\n",
       "    </tr>\n",
       "    <tr>\n",
       "      <th>4</th>\n",
       "      <td>Alabama</td>\n",
       "      <td>Baldwin</td>\n",
       "      <td>1</td>\n",
       "      <td>3</td>\n",
       "      <td>2020-01-13</td>\n",
       "      <td>29</td>\n",
       "      <td>Good</td>\n",
       "      <td>PM2.5</td>\n",
       "      <td>01-003-0010</td>\n",
       "      <td>1</td>\n",
       "      <td>1</td>\n",
       "      <td>13</td>\n",
       "    </tr>\n",
       "  </tbody>\n",
       "</table>\n",
       "</div>"
      ],
      "text/plain": [
       "  State Name county Name  State Code  County Code        Date  AQI Category  \\\n",
       "0    Alabama     Baldwin           1            3  2020-01-01   48     Good   \n",
       "1    Alabama     Baldwin           1            3  2020-01-04   13     Good   \n",
       "2    Alabama     Baldwin           1            3  2020-01-07   14     Good   \n",
       "3    Alabama     Baldwin           1            3  2020-01-10   39     Good   \n",
       "4    Alabama     Baldwin           1            3  2020-01-13   29     Good   \n",
       "\n",
       "  Defining Parameter Defining Site  Number of Sites Reporting  Month  Day  \n",
       "0              PM2.5   01-003-0010                          1      1    1  \n",
       "1              PM2.5   01-003-0010                          1      1    4  \n",
       "2              PM2.5   01-003-0010                          1      1    7  \n",
       "3              PM2.5   01-003-0010                          1      1   10  \n",
       "4              PM2.5   01-003-0010                          1      1   13  "
      ]
     },
     "execution_count": 6,
     "metadata": {},
     "output_type": "execute_result"
    }
   ],
   "source": [
    "daily_county = epa_data.get('daily_county_aqi')\n",
    "daily_county['Month'] = pd.DatetimeIndex(daily_county['Date']).month\n",
    "daily_county['Day'] = pd.DatetimeIndex(daily_county['Date']).day\n",
    "\n",
    "daily_county.head()"
   ]
  },
  {
   "cell_type": "code",
   "execution_count": 7,
   "id": "a01fb006",
   "metadata": {
    "deletable": false,
    "editable": false
   },
   "outputs": [
    {
     "data": {
      "text/html": [
       "<p><strong><pre style='display: inline;'>q1a</pre></strong> passed!</p>"
      ],
      "text/plain": [
       "q1a results: All test cases passed!"
      ]
     },
     "execution_count": 7,
     "metadata": {},
     "output_type": "execute_result"
    }
   ],
   "source": [
    "grader.check(\"q1a\")"
   ]
  },
  {
   "cell_type": "markdown",
   "id": "d7aac1d3",
   "metadata": {
    "deletable": false,
    "editable": false
   },
   "source": [
    "<br/>\n",
    "\n",
    "### Question 1b: California Data\n",
    "\n",
    "Currently, `epa_data` contains data for **all** counties in the United States. For the guided part of this project, we are specifically going to be focusing on AQI data for counties in California only. Your task is to assign `epa_data_CA` a dictionary mapping table names to dataframes. This map should have the same contents as `epa_data` but only tables that contain **daily data** in the state of `California`.\n",
    "\n",
    "<!--\n",
    "BEGIN QUESTION\n",
    "name: q1b\n",
    "points: 3\n",
    "-->"
   ]
  },
  {
   "cell_type": "code",
   "execution_count": 8,
   "id": "0b203093",
   "metadata": {},
   "outputs": [
    {
     "data": {
      "text/html": [
       "<div>\n",
       "<style scoped>\n",
       "    .dataframe tbody tr th:only-of-type {\n",
       "        vertical-align: middle;\n",
       "    }\n",
       "\n",
       "    .dataframe tbody tr th {\n",
       "        vertical-align: top;\n",
       "    }\n",
       "\n",
       "    .dataframe thead th {\n",
       "        text-align: right;\n",
       "    }\n",
       "</style>\n",
       "<table border=\"1\" class=\"dataframe\">\n",
       "  <thead>\n",
       "    <tr style=\"text-align: right;\">\n",
       "      <th></th>\n",
       "      <th>State Name</th>\n",
       "      <th>county Name</th>\n",
       "      <th>State Code</th>\n",
       "      <th>County Code</th>\n",
       "      <th>Date</th>\n",
       "      <th>AQI</th>\n",
       "      <th>Category</th>\n",
       "      <th>Defining Parameter</th>\n",
       "      <th>Defining Site</th>\n",
       "      <th>Number of Sites Reporting</th>\n",
       "      <th>Month</th>\n",
       "      <th>Day</th>\n",
       "    </tr>\n",
       "  </thead>\n",
       "  <tbody>\n",
       "    <tr>\n",
       "      <th>14003</th>\n",
       "      <td>California</td>\n",
       "      <td>Alameda</td>\n",
       "      <td>6</td>\n",
       "      <td>1</td>\n",
       "      <td>2020-01-01</td>\n",
       "      <td>53</td>\n",
       "      <td>Moderate</td>\n",
       "      <td>PM2.5</td>\n",
       "      <td>06-001-0009</td>\n",
       "      <td>7</td>\n",
       "      <td>1</td>\n",
       "      <td>1</td>\n",
       "    </tr>\n",
       "    <tr>\n",
       "      <th>14004</th>\n",
       "      <td>California</td>\n",
       "      <td>Alameda</td>\n",
       "      <td>6</td>\n",
       "      <td>1</td>\n",
       "      <td>2020-01-02</td>\n",
       "      <td>43</td>\n",
       "      <td>Good</td>\n",
       "      <td>PM2.5</td>\n",
       "      <td>06-001-0013</td>\n",
       "      <td>7</td>\n",
       "      <td>1</td>\n",
       "      <td>2</td>\n",
       "    </tr>\n",
       "    <tr>\n",
       "      <th>14005</th>\n",
       "      <td>California</td>\n",
       "      <td>Alameda</td>\n",
       "      <td>6</td>\n",
       "      <td>1</td>\n",
       "      <td>2020-01-03</td>\n",
       "      <td>74</td>\n",
       "      <td>Moderate</td>\n",
       "      <td>PM2.5</td>\n",
       "      <td>06-001-0013</td>\n",
       "      <td>7</td>\n",
       "      <td>1</td>\n",
       "      <td>3</td>\n",
       "    </tr>\n",
       "    <tr>\n",
       "      <th>14006</th>\n",
       "      <td>California</td>\n",
       "      <td>Alameda</td>\n",
       "      <td>6</td>\n",
       "      <td>1</td>\n",
       "      <td>2020-01-04</td>\n",
       "      <td>45</td>\n",
       "      <td>Good</td>\n",
       "      <td>PM2.5</td>\n",
       "      <td>06-001-0007</td>\n",
       "      <td>7</td>\n",
       "      <td>1</td>\n",
       "      <td>4</td>\n",
       "    </tr>\n",
       "    <tr>\n",
       "      <th>14007</th>\n",
       "      <td>California</td>\n",
       "      <td>Alameda</td>\n",
       "      <td>6</td>\n",
       "      <td>1</td>\n",
       "      <td>2020-01-05</td>\n",
       "      <td>33</td>\n",
       "      <td>Good</td>\n",
       "      <td>PM2.5</td>\n",
       "      <td>06-001-0007</td>\n",
       "      <td>7</td>\n",
       "      <td>1</td>\n",
       "      <td>5</td>\n",
       "    </tr>\n",
       "  </tbody>\n",
       "</table>\n",
       "</div>"
      ],
      "text/plain": [
       "       State Name county Name  State Code  County Code        Date  AQI  \\\n",
       "14003  California     Alameda           6            1  2020-01-01   53   \n",
       "14004  California     Alameda           6            1  2020-01-02   43   \n",
       "14005  California     Alameda           6            1  2020-01-03   74   \n",
       "14006  California     Alameda           6            1  2020-01-04   45   \n",
       "14007  California     Alameda           6            1  2020-01-05   33   \n",
       "\n",
       "       Category Defining Parameter Defining Site  Number of Sites Reporting  \\\n",
       "14003  Moderate              PM2.5   06-001-0009                          7   \n",
       "14004      Good              PM2.5   06-001-0013                          7   \n",
       "14005  Moderate              PM2.5   06-001-0013                          7   \n",
       "14006      Good              PM2.5   06-001-0007                          7   \n",
       "14007      Good              PM2.5   06-001-0007                          7   \n",
       "\n",
       "       Month  Day  \n",
       "14003      1    1  \n",
       "14004      1    2  \n",
       "14005      1    3  \n",
       "14006      1    4  \n",
       "14007      1    5  "
      ]
     },
     "execution_count": 8,
     "metadata": {},
     "output_type": "execute_result"
    }
   ],
   "source": [
    "epa_data_CA = {}\n",
    "\n",
    "names = ['daily_county_aqi', 'daily_ozone', 'daily_so2', 'daily_co', 'daily_no2', 'daily_temp', 'daily_wind']\n",
    "for name in names:\n",
    "    df = epa_data.get(name)\n",
    "    df = df[df['State Name'] == 'California']\n",
    "    epa_data_CA[name] = df\n",
    "    \n",
    "epa_data_CA.get('daily_county_aqi').head()"
   ]
  },
  {
   "cell_type": "code",
   "execution_count": 9,
   "id": "3ff29afa",
   "metadata": {
    "deletable": false,
    "editable": false
   },
   "outputs": [
    {
     "data": {
      "text/html": [
       "<p><strong><pre style='display: inline;'>q1b</pre></strong> passed!</p>"
      ],
      "text/plain": [
       "q1b results: All test cases passed!"
      ]
     },
     "execution_count": 9,
     "metadata": {},
     "output_type": "execute_result"
    }
   ],
   "source": [
    "grader.check(\"q1b\")"
   ]
  },
  {
   "cell_type": "markdown",
   "id": "cbd789c4",
   "metadata": {
    "deletable": false,
    "editable": false
   },
   "source": [
    "<br/>\n",
    "\n",
    "### Question 1c: Merging Site Information\n",
    "\n",
    "Now take a look at this [link](https://www.epa.gov/outdoor-air-quality-data/about-air-data-reports) and look under \"Site ID\". For later analysis, we want to first get the latitude and longitudes of each of the measurements in the `daily_county_aqi` table by merging two or more tables in `epa_data_CA` (one of the tables is `daily_county_aqi`).\n",
    "\n",
    "Our final merged table should be assigned to `epa_data_CA_merged` and the result should contain the following columns: `State Name`, `county Name`, `Month`, `Day`, `AQI`, `Category`, `Defining Site`, `Latitude`, and `Longitude`\n",
    "\n",
    "<!--\n",
    "BEGIN QUESTION\n",
    "name: q1c\n",
    "points: 4\n",
    "-->"
   ]
  },
  {
   "cell_type": "code",
   "execution_count": 15,
   "id": "be28f7dc",
   "metadata": {},
   "outputs": [
    {
     "data": {
      "text/html": [
       "<div>\n",
       "<style scoped>\n",
       "    .dataframe tbody tr th:only-of-type {\n",
       "        vertical-align: middle;\n",
       "    }\n",
       "\n",
       "    .dataframe tbody tr th {\n",
       "        vertical-align: top;\n",
       "    }\n",
       "\n",
       "    .dataframe thead th {\n",
       "        text-align: right;\n",
       "    }\n",
       "</style>\n",
       "<table border=\"1\" class=\"dataframe\">\n",
       "  <thead>\n",
       "    <tr style=\"text-align: right;\">\n",
       "      <th></th>\n",
       "      <th>State Name</th>\n",
       "      <th>county Name</th>\n",
       "      <th>Month</th>\n",
       "      <th>Day</th>\n",
       "      <th>AQI</th>\n",
       "      <th>Category</th>\n",
       "      <th>Defining Site</th>\n",
       "      <th>Latitude</th>\n",
       "      <th>Longitude</th>\n",
       "    </tr>\n",
       "  </thead>\n",
       "  <tbody>\n",
       "    <tr>\n",
       "      <th>0</th>\n",
       "      <td>California</td>\n",
       "      <td>Alameda</td>\n",
       "      <td>1</td>\n",
       "      <td>1</td>\n",
       "      <td>53</td>\n",
       "      <td>Moderate</td>\n",
       "      <td>06-001-0009</td>\n",
       "      <td>37.743065</td>\n",
       "      <td>-122.169935</td>\n",
       "    </tr>\n",
       "    <tr>\n",
       "      <th>1</th>\n",
       "      <td>California</td>\n",
       "      <td>Alameda</td>\n",
       "      <td>1</td>\n",
       "      <td>2</td>\n",
       "      <td>43</td>\n",
       "      <td>Good</td>\n",
       "      <td>06-001-0013</td>\n",
       "      <td>37.864767</td>\n",
       "      <td>-122.302741</td>\n",
       "    </tr>\n",
       "    <tr>\n",
       "      <th>2</th>\n",
       "      <td>California</td>\n",
       "      <td>Alameda</td>\n",
       "      <td>1</td>\n",
       "      <td>3</td>\n",
       "      <td>74</td>\n",
       "      <td>Moderate</td>\n",
       "      <td>06-001-0013</td>\n",
       "      <td>37.864767</td>\n",
       "      <td>-122.302741</td>\n",
       "    </tr>\n",
       "    <tr>\n",
       "      <th>3</th>\n",
       "      <td>California</td>\n",
       "      <td>Alameda</td>\n",
       "      <td>1</td>\n",
       "      <td>4</td>\n",
       "      <td>45</td>\n",
       "      <td>Good</td>\n",
       "      <td>06-001-0007</td>\n",
       "      <td>37.687526</td>\n",
       "      <td>-121.784217</td>\n",
       "    </tr>\n",
       "    <tr>\n",
       "      <th>4</th>\n",
       "      <td>California</td>\n",
       "      <td>Alameda</td>\n",
       "      <td>1</td>\n",
       "      <td>5</td>\n",
       "      <td>33</td>\n",
       "      <td>Good</td>\n",
       "      <td>06-001-0007</td>\n",
       "      <td>37.687526</td>\n",
       "      <td>-121.784217</td>\n",
       "    </tr>\n",
       "  </tbody>\n",
       "</table>\n",
       "</div>"
      ],
      "text/plain": [
       "   State Name county Name  Month  Day  AQI  Category Defining Site   Latitude  \\\n",
       "0  California     Alameda      1    1   53  Moderate   06-001-0009  37.743065   \n",
       "1  California     Alameda      1    2   43      Good   06-001-0013  37.864767   \n",
       "2  California     Alameda      1    3   74  Moderate   06-001-0013  37.864767   \n",
       "3  California     Alameda      1    4   45      Good   06-001-0007  37.687526   \n",
       "4  California     Alameda      1    5   33      Good   06-001-0007  37.687526   \n",
       "\n",
       "    Longitude  \n",
       "0 -122.169935  \n",
       "1 -122.302741  \n",
       "2 -122.302741  \n",
       "3 -121.784217  \n",
       "4 -121.784217  "
      ]
     },
     "execution_count": 15,
     "metadata": {},
     "output_type": "execute_result"
    }
   ],
   "source": [
    "cols = ['State Name', 'county Name', 'Month', 'Day', 'AQI', 'Category', 'Defining Site', 'Latitude', 'Longitude']\n",
    "aqs_sites = epa_data.get('aqs_sites')\n",
    "daily_county_aqi = epa_data_CA.get('daily_county_aqi')\n",
    "\n",
    "aqs_sites['State ID'] = aqs_sites['State Code'].astype(str).str.zfill(2)\n",
    "aqs_sites['County ID'] = aqs_sites['County Code'].astype(str).str.zfill(3)\n",
    "aqs_sites['Site ID'] = aqs_sites['Site Number'].astype(str).str.zfill(4)\n",
    "aqs_sites['Defining Site'] = aqs_sites['State ID'] + '-' + aqs_sites['County ID'] + '-' + aqs_sites['Site ID']\n",
    "aqs_sites = aqs_sites[['Latitude', 'Longitude', 'Defining Site']] \n",
    "new_df = daily_county_aqi.merge(aqs_sites,  how='left', left_on=['Defining Site'], right_on = ['Defining Site'])\n",
    "epa_data_CA_merged = new_df[cols]\n",
    "\n",
    "epa_data_CA_merged.head()"
   ]
  },
  {
   "cell_type": "code",
   "execution_count": 16,
   "id": "86b3e2aa",
   "metadata": {
    "deletable": false,
    "editable": false
   },
   "outputs": [
    {
     "data": {
      "text/html": [
       "<p><strong><pre style='display: inline;'>q1c</pre></strong> passed!</p>"
      ],
      "text/plain": [
       "q1c results: All test cases passed!"
      ]
     },
     "execution_count": 16,
     "metadata": {},
     "output_type": "execute_result"
    }
   ],
   "source": [
    "grader.check(\"q1c\")"
   ]
  },
  {
   "cell_type": "markdown",
   "id": "0934d18f",
   "metadata": {
    "deletable": false,
    "editable": false
   },
   "source": [
    "<br/>\n",
    "\n",
    "### Question 2a - Cleaning Traffic Data \n",
    "\n",
    "Throughout this project, you will be using other datasets to assist with analysis and predictions. Traditionally, to join dataframes we need to join on a specific column with shared values. However, when it comes to locations, exact latitudes and longitudes are hard to come by since it is a continuous space. First, lets look at such a dataset that we may want to merge on with `epa_data_CA_merged`. \n",
    "\n",
    "In the below cell, we have loaded in the `traffic_data` dataset, which contains traffic data for various locations in California. Your task is to clean this table so that it includes only the following columns (you may have to rename some): `District`, `Route`, `County`, `Descriptn`, `AADT`, `Latitude`, `Longitude`, where `AADT` is found by taking the sum of the back and ahead `AADT`s (you may run into some issues with cleaning the data in order to add these columns - `.str` functions may help with this). The metric AADT, annual average daily traffic, is calculated as the sum of the traffic north of the route (ahead AADT) and south of the route (back AADT). You also need to make sure to clean and remove any illegal values from the dataframe (hint: check `Latitude` and `Longitude`).\n",
    "\n",
    "*Hint:* `str` functions you will likely use: `.strip()`, `.replace()`.\n",
    "\n",
    "<!--\n",
    "BEGIN QUESTION\n",
    "name: q2a\n",
    "points: 3\n",
    "-->"
   ]
  },
  {
   "cell_type": "code",
   "execution_count": 17,
   "id": "fbd51a57",
   "metadata": {},
   "outputs": [
    {
     "data": {
      "text/html": [
       "<div>\n",
       "<style scoped>\n",
       "    .dataframe tbody tr th:only-of-type {\n",
       "        vertical-align: middle;\n",
       "    }\n",
       "\n",
       "    .dataframe tbody tr th {\n",
       "        vertical-align: top;\n",
       "    }\n",
       "\n",
       "    .dataframe thead th {\n",
       "        text-align: right;\n",
       "    }\n",
       "</style>\n",
       "<table border=\"1\" class=\"dataframe\">\n",
       "  <thead>\n",
       "    <tr style=\"text-align: right;\">\n",
       "      <th></th>\n",
       "      <th>District</th>\n",
       "      <th>Route</th>\n",
       "      <th>County</th>\n",
       "      <th>Descriptn</th>\n",
       "      <th>AADT</th>\n",
       "      <th>Latitude</th>\n",
       "      <th>Longitude</th>\n",
       "    </tr>\n",
       "  </thead>\n",
       "  <tbody>\n",
       "    <tr>\n",
       "      <th>0</th>\n",
       "      <td>1</td>\n",
       "      <td>1</td>\n",
       "      <td>MEN</td>\n",
       "      <td>SONOMA/MENDOCINO COUNTY LINE</td>\n",
       "      <td>4000</td>\n",
       "      <td>38.75984264</td>\n",
       "      <td>-123.5185026</td>\n",
       "    </tr>\n",
       "    <tr>\n",
       "      <th>1</th>\n",
       "      <td>1</td>\n",
       "      <td>1</td>\n",
       "      <td>MEN</td>\n",
       "      <td>NORTH LIMITS GUALALA</td>\n",
       "      <td>7100</td>\n",
       "      <td>38.77004592</td>\n",
       "      <td>-123.53189</td>\n",
       "    </tr>\n",
       "    <tr>\n",
       "      <th>2</th>\n",
       "      <td>1</td>\n",
       "      <td>1</td>\n",
       "      <td>MEN</td>\n",
       "      <td>FISH ROCK ROAD</td>\n",
       "      <td>6200</td>\n",
       "      <td>38.80354931</td>\n",
       "      <td>-123.585411</td>\n",
       "    </tr>\n",
       "    <tr>\n",
       "      <th>3</th>\n",
       "      <td>1</td>\n",
       "      <td>1</td>\n",
       "      <td>MEN</td>\n",
       "      <td>POINT ARENA, SOUTH CITY LIMITS</td>\n",
       "      <td>4600</td>\n",
       "      <td>38.90397338</td>\n",
       "      <td>-123.6915134</td>\n",
       "    </tr>\n",
       "    <tr>\n",
       "      <th>4</th>\n",
       "      <td>1</td>\n",
       "      <td>1</td>\n",
       "      <td>MEN</td>\n",
       "      <td>POINT ARENA, RIVERSIDE DRIVE</td>\n",
       "      <td>5000</td>\n",
       "      <td>38.91091252</td>\n",
       "      <td>-123.6924099</td>\n",
       "    </tr>\n",
       "  </tbody>\n",
       "</table>\n",
       "</div>"
      ],
      "text/plain": [
       "   District  Route County                       Descriptn  AADT     Latitude  \\\n",
       "0         1      1    MEN    SONOMA/MENDOCINO COUNTY LINE  4000  38.75984264   \n",
       "1         1      1    MEN            NORTH LIMITS GUALALA  7100  38.77004592   \n",
       "2         1      1    MEN                  FISH ROCK ROAD  6200  38.80354931   \n",
       "3         1      1    MEN  POINT ARENA, SOUTH CITY LIMITS  4600  38.90397338   \n",
       "4         1      1    MEN    POINT ARENA, RIVERSIDE DRIVE  5000  38.91091252   \n",
       "\n",
       "      Longitude  \n",
       "0  -123.5185026  \n",
       "1    -123.53189  \n",
       "2   -123.585411  \n",
       "3  -123.6915134  \n",
       "4  -123.6924099  "
      ]
     },
     "execution_count": 17,
     "metadata": {},
     "output_type": "execute_result"
    }
   ],
   "source": [
    "traffic_data = pd.read_csv(\"data/Traffic_Volumes_AADT.csv\")\n",
    "cols = ['District', 'Route', 'County', 'Descriptn', 'AADT', 'Latitude', 'Longitude']\n",
    "\n",
    "traffic_data_cleaned = pd.DataFrame()\n",
    "traffic_data_cleaned['District'] = traffic_data['District']\n",
    "traffic_data_cleaned['Route'] = traffic_data['Route']\n",
    "traffic_data_cleaned['County'] = traffic_data['County']\n",
    "traffic_data_cleaned['Descriptn'] = traffic_data['Descriptn']\n",
    "traffic_data_cleaned['AADT'] = traffic_data['Back_AADT'].str.replace(r'\\s', '0').astype(int) + traffic_data['Ahead_AADT'].str.replace(r'\\s', '0').astype(int)\n",
    "traffic_data_cleaned['Latitude'] = traffic_data['Lat_S_or_W']\n",
    "traffic_data_cleaned['Longitude'] = traffic_data['Lon_S_or_W']\n",
    "\n",
    "traffic_data_cleaned = traffic_data_cleaned[traffic_data_cleaned['Longitude'] != 'Left Skipped - Input PM on Right Ind. Alignment']\n",
    "traffic_data_cleaned = traffic_data_cleaned[traffic_data_cleaned['Latitude'] != 'Left Skipped - Input PM on Right Ind. Alignment']\n",
    "\n",
    "traffic_data_cleaned.head()"
   ]
  },
  {
   "cell_type": "code",
   "execution_count": 18,
   "id": "302e1457",
   "metadata": {
    "deletable": false,
    "editable": false
   },
   "outputs": [
    {
     "data": {
      "text/html": [
       "<p><strong><pre style='display: inline;'>q2a</pre></strong> passed!</p>"
      ],
      "text/plain": [
       "q2a results: All test cases passed!"
      ]
     },
     "execution_count": 18,
     "metadata": {},
     "output_type": "execute_result"
    }
   ],
   "source": [
    "grader.check(\"q2a\")"
   ]
  },
  {
   "cell_type": "markdown",
   "id": "67e35cda",
   "metadata": {
    "deletable": false,
    "editable": false
   },
   "source": [
    "### Question 2b - Merging on Traffic Data \n",
    "\n",
    "Traditionally, we could employ some sort of join where we join `epa_data_CA_merged` rows with the row in `traffic_data` that it is the \"closest\" to, as measured by euclidean distance. As you can imagine, this can be quite tedious so instead we will use a special type of join called a **spatial join**, which can be done using the package `geopandas`, which is imported as `gpd`. The documentation for `geopandas` is linked [here](https://geopandas.org/docs/reference/api/geopandas.sjoin_nearest.html). Please use this as a resource to do the following tasks: \n",
    "\n",
    " - turn `traffic_data_cleaned` and `epa_data_CA_merged` into a geopandas dataframe using the latitude and longitude.\n",
    " - Use a spatial join (which function is this in the documentation?) to match the correct traffic row information to each entry in `epa_data_CA_merged`. \n",
    "\n",
    "Your final dataframe should be assigned to `gpd_epa_traffic` with the following columns: `State Name`, `county Name`, `Month`, `Day`, `AQI`, `Category`, `Defining Site`, `Site Lat`, `Site Long`, `Traffic Lat`, `Traffic Long`, `Descriptn`, and `AADT`.\n",
    "\n",
    "<!--\n",
    "BEGIN QUESTION\n",
    "name: q2b\n",
    "points: 2\n",
    "-->"
   ]
  },
  {
   "cell_type": "code",
   "execution_count": 19,
   "id": "eef79865",
   "metadata": {},
   "outputs": [
    {
     "data": {
      "text/html": [
       "<div>\n",
       "<style scoped>\n",
       "    .dataframe tbody tr th:only-of-type {\n",
       "        vertical-align: middle;\n",
       "    }\n",
       "\n",
       "    .dataframe tbody tr th {\n",
       "        vertical-align: top;\n",
       "    }\n",
       "\n",
       "    .dataframe thead th {\n",
       "        text-align: right;\n",
       "    }\n",
       "</style>\n",
       "<table border=\"1\" class=\"dataframe\">\n",
       "  <thead>\n",
       "    <tr style=\"text-align: right;\">\n",
       "      <th></th>\n",
       "      <th>State Name</th>\n",
       "      <th>county Name</th>\n",
       "      <th>Month</th>\n",
       "      <th>Day</th>\n",
       "      <th>AQI</th>\n",
       "      <th>Category</th>\n",
       "      <th>Defining Site</th>\n",
       "      <th>Site Lat</th>\n",
       "      <th>Site Long</th>\n",
       "      <th>Traffic Lat</th>\n",
       "      <th>Traffic Long</th>\n",
       "      <th>Descriptn</th>\n",
       "      <th>AADT</th>\n",
       "    </tr>\n",
       "  </thead>\n",
       "  <tbody>\n",
       "    <tr>\n",
       "      <th>0</th>\n",
       "      <td>California</td>\n",
       "      <td>Alameda</td>\n",
       "      <td>1</td>\n",
       "      <td>1</td>\n",
       "      <td>53</td>\n",
       "      <td>Moderate</td>\n",
       "      <td>06-001-0009</td>\n",
       "      <td>37.743065</td>\n",
       "      <td>-122.169935</td>\n",
       "      <td>37.744352</td>\n",
       "      <td>-122.170586</td>\n",
       "      <td>OAKLAND, 98TH AVENUE</td>\n",
       "      <td>48300</td>\n",
       "    </tr>\n",
       "    <tr>\n",
       "      <th>24</th>\n",
       "      <td>California</td>\n",
       "      <td>Alameda</td>\n",
       "      <td>1</td>\n",
       "      <td>25</td>\n",
       "      <td>40</td>\n",
       "      <td>Good</td>\n",
       "      <td>06-001-0009</td>\n",
       "      <td>37.743065</td>\n",
       "      <td>-122.169935</td>\n",
       "      <td>37.744352</td>\n",
       "      <td>-122.170586</td>\n",
       "      <td>OAKLAND, 98TH AVENUE</td>\n",
       "      <td>48300</td>\n",
       "    </tr>\n",
       "    <tr>\n",
       "      <th>184</th>\n",
       "      <td>California</td>\n",
       "      <td>Alameda</td>\n",
       "      <td>7</td>\n",
       "      <td>3</td>\n",
       "      <td>48</td>\n",
       "      <td>Good</td>\n",
       "      <td>06-001-0009</td>\n",
       "      <td>37.743065</td>\n",
       "      <td>-122.169935</td>\n",
       "      <td>37.744352</td>\n",
       "      <td>-122.170586</td>\n",
       "      <td>OAKLAND, 98TH AVENUE</td>\n",
       "      <td>48300</td>\n",
       "    </tr>\n",
       "    <tr>\n",
       "      <th>185</th>\n",
       "      <td>California</td>\n",
       "      <td>Alameda</td>\n",
       "      <td>7</td>\n",
       "      <td>4</td>\n",
       "      <td>115</td>\n",
       "      <td>Unhealthy for Sensitive Groups</td>\n",
       "      <td>06-001-0009</td>\n",
       "      <td>37.743065</td>\n",
       "      <td>-122.169935</td>\n",
       "      <td>37.744352</td>\n",
       "      <td>-122.170586</td>\n",
       "      <td>OAKLAND, 98TH AVENUE</td>\n",
       "      <td>48300</td>\n",
       "    </tr>\n",
       "    <tr>\n",
       "      <th>186</th>\n",
       "      <td>California</td>\n",
       "      <td>Alameda</td>\n",
       "      <td>7</td>\n",
       "      <td>5</td>\n",
       "      <td>78</td>\n",
       "      <td>Moderate</td>\n",
       "      <td>06-001-0009</td>\n",
       "      <td>37.743065</td>\n",
       "      <td>-122.169935</td>\n",
       "      <td>37.744352</td>\n",
       "      <td>-122.170586</td>\n",
       "      <td>OAKLAND, 98TH AVENUE</td>\n",
       "      <td>48300</td>\n",
       "    </tr>\n",
       "  </tbody>\n",
       "</table>\n",
       "</div>"
      ],
      "text/plain": [
       "     State Name county Name  Month  Day  AQI                        Category  \\\n",
       "0    California     Alameda      1    1   53                        Moderate   \n",
       "24   California     Alameda      1   25   40                            Good   \n",
       "184  California     Alameda      7    3   48                            Good   \n",
       "185  California     Alameda      7    4  115  Unhealthy for Sensitive Groups   \n",
       "186  California     Alameda      7    5   78                        Moderate   \n",
       "\n",
       "    Defining Site   Site Lat   Site Long  Traffic Lat  Traffic Long  \\\n",
       "0     06-001-0009  37.743065 -122.169935    37.744352   -122.170586   \n",
       "24    06-001-0009  37.743065 -122.169935    37.744352   -122.170586   \n",
       "184   06-001-0009  37.743065 -122.169935    37.744352   -122.170586   \n",
       "185   06-001-0009  37.743065 -122.169935    37.744352   -122.170586   \n",
       "186   06-001-0009  37.743065 -122.169935    37.744352   -122.170586   \n",
       "\n",
       "                Descriptn   AADT  \n",
       "0    OAKLAND, 98TH AVENUE  48300  \n",
       "24   OAKLAND, 98TH AVENUE  48300  \n",
       "184  OAKLAND, 98TH AVENUE  48300  \n",
       "185  OAKLAND, 98TH AVENUE  48300  \n",
       "186  OAKLAND, 98TH AVENUE  48300  "
      ]
     },
     "execution_count": 19,
     "metadata": {},
     "output_type": "execute_result"
    }
   ],
   "source": [
    "cols = ['State Name', 'county Name', 'Month', 'Day', 'AQI', 'Category', 'Defining Site', 'Site Lat', 'Site Long', 'Traffic Lat', 'Traffic Long', 'Descriptn', 'AADT']\n",
    "\n",
    "temp = epa_data_CA_merged.copy()\n",
    "gdf_epa = gpd.GeoDataFrame(\n",
    "    temp, geometry=gpd.points_from_xy(temp.Longitude, temp.Latitude))\n",
    "gdf_epa = gdf_epa.rename(columns = {'Latitude': 'Site Lat', 'Longitude':'Site Long'})\n",
    "\n",
    "gdf_traffic = gpd.GeoDataFrame(\n",
    "    traffic_data_cleaned, geometry=gpd.points_from_xy(traffic_data_cleaned.Longitude.astype(float), traffic_data_cleaned.Latitude.astype(float)))\n",
    "gdf_traffic = gdf_traffic.rename(columns = {'Latitude': 'Traffic Lat', 'Longitude' : 'Traffic Long'})\n",
    "\n",
    "gpd_epa_traffic = gpd.sjoin_nearest(gdf_epa, gdf_traffic)\n",
    "gpd_epa_traffic = gpd_epa_traffic[cols]\n",
    "gpd_epa_traffic['Traffic Long'] = gpd_epa_traffic['Traffic Long'].astype(float)\n",
    "gpd_epa_traffic['Traffic Lat'] = gpd_epa_traffic['Traffic Lat'].astype(float)\n",
    "gpd_epa_traffic['Site Long'] = gpd_epa_traffic['Site Long'].astype(float)\n",
    "gpd_epa_traffic['Site Lat'] = gpd_epa_traffic['Site Lat'].astype(float)\n",
    "gpd_epa_traffic.head()"
   ]
  },
  {
   "cell_type": "code",
   "execution_count": 20,
   "id": "b551886e",
   "metadata": {
    "deletable": false,
    "editable": false
   },
   "outputs": [
    {
     "data": {
      "text/html": [
       "<p><strong><pre style='display: inline;'>q2b</pre></strong> passed!</p>"
      ],
      "text/plain": [
       "q2b results: All test cases passed!"
      ]
     },
     "execution_count": 20,
     "metadata": {},
     "output_type": "execute_result"
    }
   ],
   "source": [
    "grader.check(\"q2b\")"
   ]
  },
  {
   "cell_type": "markdown",
   "id": "cc72f6c9",
   "metadata": {
    "tags": []
   },
   "source": [
    "<br/><br/>\n",
    "\n",
    "---\n",
    "## Section 2: Guided EDA\n"
   ]
  },
  {
   "cell_type": "markdown",
   "id": "07b60cd6",
   "metadata": {
    "deletable": false,
    "editable": false,
    "tags": []
   },
   "source": [
    "### Question 3a: Initial AQI Analysis\n",
    "\n",
    "Assign a `pd.Series` object to `worst_median_aqis` that contains the states with the top 10 worst median AQIs throughout the year 2020, as measured by the average median AQIs across all counties for a single state. Your result should have index `state`, the column value should be labelled `Average Median AQI`, and it should be arranged in descending order.\n",
    "\n",
    "Now, assign the same thing to `worst_max_aqis`, except instead of aggregating the average median AQIs across all counties, aggregate the average **max AQIs** across all counties. Your result should have the same shape and labels as before, except the column value should be labelled `Average Max AQI`. \n",
    "\n",
    "Note: you may have to remove a few regions in your tables. Make sure every entry in your output is a **US State**.\n",
    "\n",
    "<!--\n",
    "BEGIN QUESTION\n",
    "name: q3a\n",
    "points: 2\n",
    "-->"
   ]
  },
  {
   "cell_type": "code",
   "execution_count": 21,
   "id": "61aac8a2",
   "metadata": {},
   "outputs": [
    {
     "name": "stdout",
     "output_type": "stream",
     "text": [
      "Worst Median AQI : \n",
      "State\n",
      "California       48.018868\n",
      "Arizona          47.307692\n",
      "Utah             41.066667\n",
      "Connecticut      39.125000\n",
      "Delaware         38.000000\n",
      "Mississippi      37.200000\n",
      "New Jersey       36.937500\n",
      "Massachusetts    36.538462\n",
      "Nevada           36.222222\n",
      "Pennsylvania     35.756098\n",
      "Name: Median AQI, dtype: float64\n",
      "\n",
      "Worst Max AQI : \n",
      "State\n",
      "Oregon          430.347826\n",
      "Washington      334.419355\n",
      "California      286.981132\n",
      "Arizona         238.230769\n",
      "Idaho           197.857143\n",
      "Wyoming         196.666667\n",
      "Nevada          196.666667\n",
      "Montana         137.421053\n",
      "Rhode Island    133.000000\n",
      "Connecticut     124.750000\n",
      "Name: Max AQI, dtype: float64\n"
     ]
    }
   ],
   "source": [
    "annual_county_aqi = epa_data.get('annual_county_aqi')\n",
    "annual_county_aqi = annual_county_aqi[(annual_county_aqi['State'] != 'Country Of Mexico' ) \n",
    "                                    & (annual_county_aqi['State'] != 'District Of Columbia') \n",
    "                                    & (annual_county_aqi['State'] != 'Puerto Rico')\n",
    "                                     & (annual_county_aqi['State'] != 'Virginia Island')]\n",
    "\n",
    "result = annual_county_aqi.groupby('State').mean()['Median AQI']\n",
    "worst_median_aqis = result.sort_values(ascending = False)[:10]\n",
    "\n",
    "result2 = annual_county_aqi.groupby('State').mean()['Max AQI']\n",
    "worst_max_aqis = result2.sort_values(ascending = False)[:10]\n",
    "\n",
    "print(\"Worst Median AQI : \\n{}\\n\".format(worst_median_aqis))\n",
    "print(\"Worst Max AQI : \\n{}\".format(worst_max_aqis))"
   ]
  },
  {
   "cell_type": "code",
   "execution_count": 22,
   "id": "308f7328",
   "metadata": {
    "deletable": false,
    "editable": false
   },
   "outputs": [
    {
     "data": {
      "text/html": [
       "<p><strong><pre style='display: inline;'>q3a</pre></strong> passed!</p>"
      ],
      "text/plain": [
       "q3a results: All test cases passed!"
      ]
     },
     "execution_count": 22,
     "metadata": {},
     "output_type": "execute_result"
    }
   ],
   "source": [
    "grader.check(\"q3a\")"
   ]
  },
  {
   "cell_type": "markdown",
   "id": "2ed7af0d",
   "metadata": {
    "deletable": false,
    "editable": false,
    "tags": []
   },
   "source": [
    "<!-- BEGIN QUESTION -->\n",
    "\n",
    "<br/>\n",
    "\n",
    "### Question 3b: Worst AQI States\n",
    "\n",
    "What are the states that are in both of the top 10 lists? Why do you think most of these states are on both of the lists?\n",
    "\n",
    "<!--\n",
    "BEGIN QUESTION\n",
    "name: q3b\n",
    "manual: True\n",
    "points: 2\n",
    "-->"
   ]
  },
  {
   "cell_type": "markdown",
   "id": "5afe8e40",
   "metadata": {},
   "source": [
    "California, Arizona, Connecticut, Nevada. These states have large populations and are more industrialized, making them more heavily polluted. "
   ]
  },
  {
   "cell_type": "markdown",
   "id": "129b9ef4",
   "metadata": {
    "deletable": false,
    "editable": false
   },
   "source": [
    "<!-- END QUESTION -->\n",
    "\n",
    "<br/>\n",
    "\n",
    "### Question 4a: Missing AQI Data\n",
    "\n",
    "We want to see the accessibility of the AQI data across states. In the following cell, assign `days_with_AQI` to a series that contains the state as the index and the average number of days with AQI entries across all counties in that state as the value. Make sure to label the series as `Days with AQI` and sort in ascending order (smallest average number of days at the top). As before, make sure to remove the regions that are not **US States** from your series.\n",
    "\n",
    "<!--\n",
    "BEGIN QUESTION\n",
    "name: q4a\n",
    "points: 2\n",
    "-->"
   ]
  },
  {
   "cell_type": "code",
   "execution_count": 23,
   "id": "200bab31",
   "metadata": {},
   "outputs": [
    {
     "data": {
      "text/plain": [
       "State Name\n",
       "Alaska        235.222222\n",
       "Arkansas      251.545455\n",
       "New Mexico    264.062500\n",
       "Virginia      265.303030\n",
       "Colorado      278.892857\n",
       "Name: AQI, dtype: float64"
      ]
     },
     "execution_count": 23,
     "metadata": {},
     "output_type": "execute_result"
    }
   ],
   "source": [
    "daily_county_aqi = epa_data.get('daily_county_aqi')\n",
    "daily_county_aqi = daily_county_aqi[(daily_county_aqi['State Name'] != 'Country Of Mexico' ) \n",
    "                                    & (daily_county_aqi['State Name'] != 'District Of Columbia') \n",
    "                                    & (daily_county_aqi['State Name'] != 'Puerto Rico')\n",
    "                                    & (daily_county_aqi['State Name'] != 'Virgin Islands')]\n",
    "\n",
    "days_with_AQI = daily_county_aqi.groupby(['State Name', 'county Name']).count().groupby('State Name').mean()['AQI'].sort_values(ascending = True)\n",
    "\n",
    "days_with_AQI.head()"
   ]
  },
  {
   "cell_type": "code",
   "execution_count": 24,
   "id": "c7982396",
   "metadata": {
    "deletable": false,
    "editable": false
   },
   "outputs": [
    {
     "data": {
      "text/html": [
       "<p><strong><pre style='display: inline;'>q4a</pre></strong> passed!</p>"
      ],
      "text/plain": [
       "q4a results: All test cases passed!"
      ]
     },
     "execution_count": 24,
     "metadata": {},
     "output_type": "execute_result"
    }
   ],
   "source": [
    "grader.check(\"q4a\")"
   ]
  },
  {
   "cell_type": "markdown",
   "id": "77eeaccc",
   "metadata": {},
   "source": [
    "<br/>\n",
    "\n",
    "### Question 4b: What are the missing dates?\n",
    "\n",
    "In the following cell, we create the series `ca_aqi_days` that outputs a series with each county in California mapped to the number of days that they have AQI data on. Notice that there exists a few counties without the full year of data, which is what you will be taking a closer look at in the following two parts."
   ]
  },
  {
   "cell_type": "code",
   "execution_count": 25,
   "id": "9442b8cb",
   "metadata": {},
   "outputs": [
    {
     "data": {
      "text/plain": [
       "54    274\n",
       "96    331\n",
       "63    351\n",
       "98    353\n",
       "49    359\n",
       "76    360\n",
       "51    364\n",
       "57    364\n",
       "72    365\n",
       "79    366\n",
       "Name: Days with AQI, dtype: int64"
      ]
     },
     "execution_count": 25,
     "metadata": {},
     "output_type": "execute_result"
    }
   ],
   "source": [
    "ca_annual_data = epa_data.get('annual_county_aqi')[epa_data.get('annual_county_aqi')['State'] == 'California']\n",
    "ca_aqi_days = ca_annual_data['Days with AQI'].sort_values()\n",
    "ca_aqi_days.head(10)"
   ]
  },
  {
   "cell_type": "markdown",
   "id": "792d52bc",
   "metadata": {
    "deletable": false,
    "editable": false
   },
   "source": [
    "#### Question 4bi: Missing Days\n",
    "\n",
    "Assign `county_to_missing_dates` to a dictionary that maps each county with less than the full year of data to the dates that have missing AQI data. Make sure that your keys are just the county name (no whitespace around it or `, California` appended to it) and the values are of the format `yyyy-mm-dd`.\n",
    "\n",
    "<!--\n",
    "BEGIN QUESTION\n",
    "name: q4i\n",
    "points: 2\n",
    "-->"
   ]
  },
  {
   "cell_type": "code",
   "execution_count": 26,
   "id": "6c64da0f",
   "metadata": {},
   "outputs": [],
   "source": [
    "date_366 = daily_county_aqi[daily_county_aqi['county Name'] == 'Alameda']['Date']\n",
    "date_less = daily_county_aqi[daily_county_aqi['county Name'] == 'Amador']['Date']\n",
    "date_366[date_366.isin(date_less) == False]\n",
    "\n",
    "ca_daily = daily_county[daily_county['State Name'] == 'California']\n",
    "less_than_366 = ca_annual_data[ca_annual_data['Days with AQI'] != 366]['County']\n",
    "full_year = ca_daily[ca_daily['county Name'] == 'Alameda']['Date']\n",
    "\n",
    "county_to_missing_dates = {}\n",
    "\n",
    "for i in less_than_366:\n",
    "    df = ca_daily[ca_daily['county Name'] == i]['Date']\n",
    "    result = pd.DataFrame()\n",
    "    result['full year'] = full_year\n",
    "    merged = result.merge(df, how = 'left', left_on = ['full year'], right_on = ['Date'])                \n",
    "    missing = merged[merged['Date'].isnull()]\n",
    "    missing_list = missing['full year']\n",
    "    county_to_missing_dates[i] = list(missing_list)"
   ]
  },
  {
   "cell_type": "code",
   "execution_count": 27,
   "id": "e2470372",
   "metadata": {
    "deletable": false,
    "editable": false
   },
   "outputs": [
    {
     "data": {
      "text/html": [
       "<p><strong><pre style='display: inline;'>q4i</pre></strong> passed!</p>"
      ],
      "text/plain": [
       "q4i results: All test cases passed!"
      ]
     },
     "execution_count": 27,
     "metadata": {},
     "output_type": "execute_result"
    }
   ],
   "source": [
    "grader.check(\"q4i\")"
   ]
  },
  {
   "cell_type": "markdown",
   "id": "ff49cc54",
   "metadata": {
    "deletable": false,
    "editable": false
   },
   "source": [
    "<!-- BEGIN QUESTION -->\n",
    "\n",
    "#### Question 4bii: Missing Days\n",
    "\n",
    "Are there any key missing dates in common between the counties that have missing AQI data? What two counties have the most missing days and why do you think they do?\n",
    "\n",
    "<!--\n",
    "BEGIN QUESTION\n",
    "name: q4bii\n",
    "manual: True\n",
    "points: 2\n",
    "-->"
   ]
  },
  {
   "cell_type": "markdown",
   "id": "07c6c60a",
   "metadata": {},
   "source": [
    "Del Norte and Trinity have the most missing days. It might be due to malfunction of the aqi detectors. There is no common missing dates among the counties."
   ]
  },
  {
   "cell_type": "markdown",
   "id": "fbbc718f",
   "metadata": {},
   "source": [
    "<!-- END QUESTION -->\n",
    "\n",
    "\n",
    "\n",
    "<br/>\n",
    "\n",
    "### Question 5a: AQI over Time "
   ]
  },
  {
   "cell_type": "markdown",
   "id": "aeeba668",
   "metadata": {
    "deletable": false,
    "editable": false
   },
   "source": [
    "Assign `aqi_per_month` to a series of the average aqi per month across all US states and `aqi_per_month_CA` to a series of the average AQI per month across California.\n",
    "\n",
    "<!--\n",
    "BEGIN QUESTION\n",
    "name: q5a\n",
    "points: 1\n",
    "-->"
   ]
  },
  {
   "cell_type": "code",
   "execution_count": 28,
   "id": "a243c2dc",
   "metadata": {},
   "outputs": [
    {
     "name": "stdout",
     "output_type": "stream",
     "text": [
      "AQI per Month: \n",
      "Month\n",
      "1     31.032050\n",
      "2     32.258621\n",
      "3     34.509181\n",
      "4     37.287264\n",
      "5     36.273464\n",
      "6     40.533681\n",
      "7     40.070404\n",
      "8     41.252281\n",
      "9     43.290611\n",
      "10    35.285558\n",
      "11    34.184020\n",
      "12    34.990632\n",
      "Name: AQI, dtype: float64\n",
      "\n",
      "AQI per Month California : \n",
      "Month\n",
      "1      46.346888\n",
      "2      47.110236\n",
      "3      40.114094\n",
      "4      41.443462\n",
      "5      49.538319\n",
      "6      47.996146\n",
      "7      56.069375\n",
      "8      79.960220\n",
      "9     107.020228\n",
      "10     75.491763\n",
      "11     52.070573\n",
      "12     53.645516\n",
      "Name: AQI, dtype: float64\n"
     ]
    }
   ],
   "source": [
    "aqi_per_month = daily_county.groupby('Month').mean()['AQI']\n",
    "aqi_per_month_CA = ca_daily.groupby('Month').mean()['AQI']\n",
    "\n",
    "\n",
    "print(\"AQI per Month: \\n{}\\n\".format(aqi_per_month))\n",
    "print(\"AQI per Month California : \\n{}\".format(aqi_per_month_CA))"
   ]
  },
  {
   "cell_type": "code",
   "execution_count": 29,
   "id": "c03e76e1",
   "metadata": {
    "deletable": false,
    "editable": false
   },
   "outputs": [
    {
     "data": {
      "text/html": [
       "<p><strong><pre style='display: inline;'>q5a</pre></strong> passed!</p>"
      ],
      "text/plain": [
       "q5a results: All test cases passed!"
      ]
     },
     "execution_count": 29,
     "metadata": {},
     "output_type": "execute_result"
    }
   ],
   "source": [
    "grader.check(\"q5a\")"
   ]
  },
  {
   "cell_type": "markdown",
   "id": "738baa95",
   "metadata": {
    "deletable": false,
    "editable": false
   },
   "source": [
    "<!-- BEGIN QUESTION -->\n",
    "\n",
    "<br/>\n",
    "\n",
    "### Question 5b: AQI over Time Analysis \n",
    "\n",
    "Is there anything interesting that you notice in `aqi_per_month_CA`? If so, why do you think that is?\n",
    "\n",
    "<!--\n",
    "BEGIN QUESTION\n",
    "name: q5b\n",
    "manual: True\n",
    "points: 1\n",
    "-->"
   ]
  },
  {
   "cell_type": "markdown",
   "id": "bf8fcea7",
   "metadata": {},
   "source": [
    "In september, the AQI in California is exceptionally high. It's probably due to wildfire in California."
   ]
  },
  {
   "cell_type": "markdown",
   "id": "e939efa5",
   "metadata": {
    "deletable": false,
    "editable": false
   },
   "source": [
    "<!-- END QUESTION -->\n",
    "\n",
    "<!-- BEGIN QUESTION -->\n",
    "\n",
    "<br/>\n",
    "\n",
    "### Question 5c: Modeling AQI over Time\n",
    "\n",
    "Based on the AQI pattern in the year 2020, if we were to model AQI over the last 10 years, with the average AQI per year being the same, what sort of parametric function $f(x)$ would you use? Let us say that we see a linear increase in the average AQI per year over the last 10 years instead, then what parametric function $g(x)$ would you use?\n",
    "\n",
    "<!--\n",
    "BEGIN QUESTION\n",
    "name: q5c\n",
    "manual: True\n",
    "points: 3\n",
    "-->"
   ]
  },
  {
   "cell_type": "markdown",
   "id": "44e24030",
   "metadata": {},
   "source": [
    "If the domain of x is each year in the past 10 years, I would use a constant function to model f(x), and a linear function to model g(x). If x is for each month in the past 10 years, I would use a sine function to model f(x), and a linear and sine function combined, such as sin(x) + x to model g(x).  "
   ]
  },
  {
   "cell_type": "markdown",
   "id": "389dc921",
   "metadata": {},
   "source": [
    "<!-- END QUESTION -->\n",
    "\n",
    "\n",
    "\n",
    "<br/>\n",
    "\n",
    "### Question 6a: Create Heatmap Buckets\n",
    "\n",
    "Now we want to create a function called `bucket_data`, which takes in the following parameters: `table`, `resolution`. It outputs a pivot table with the latitude bucket (smallest latitude for that grid point) on the index and the longitude bucket (smallest longitude for that grid point) on the columns. The values in the pivot table should be the average AQI of the monitor sites inside that respective rectangle grid of latitudes and longitudes. The following should be the output of `bucket_data(epa_data_CA_merged, np.mean, 5)`:\n",
    "\n",
    "<img src=\"images/q6a.png\" width=\"600px\" align=\"center\"/>"
   ]
  },
  {
   "cell_type": "markdown",
   "id": "65b89123",
   "metadata": {
    "deletable": false,
    "editable": false
   },
   "source": [
    "The `resolution` parameter describes the number of buckets that the latitudes and longitudes are divided into on the heatmap. As an example, let us say that the range of longitudes for site monitors are between \\[100, 110\\]; make sure that the start of the range is exactly the **minimum** of all longitude values of your site monitors and the end of the range is the exactly the **maximum** of all longitude values of your site monitors. Let us say that we have a resolution of 10. Then we have the buckets \n",
    "$$([100, 101], [101, 102], ..., [109, 110])$$\n",
    "\n",
    "The column and row labels of this dataframe should be labelled as the **start** of the bucket. In the case of the example above, the names of the buckets should be $ 100, 101, \\dots 109 $. Note that we are just looking at the longitude dimension in this example, and you have to do do the same for the latitude dimension along the rows in order to build the pivot table.\n",
    "\n",
    "Finally, make sure the row and column labels of your pivot table are **exactly** the same as the example given above. \n",
    "<!--\n",
    "BEGIN QUESTION\n",
    "name: q6a\n",
    "points: 6\n",
    "-->"
   ]
  },
  {
   "cell_type": "code",
   "execution_count": 30,
   "id": "7c0eb71f",
   "metadata": {},
   "outputs": [
    {
     "data": {
      "text/html": [
       "<div>\n",
       "<style scoped>\n",
       "    .dataframe tbody tr th:only-of-type {\n",
       "        vertical-align: middle;\n",
       "    }\n",
       "\n",
       "    .dataframe tbody tr th {\n",
       "        vertical-align: top;\n",
       "    }\n",
       "\n",
       "    .dataframe thead tr th {\n",
       "        text-align: left;\n",
       "    }\n",
       "\n",
       "    .dataframe thead tr:last-of-type th {\n",
       "        text-align: right;\n",
       "    }\n",
       "</style>\n",
       "<table border=\"1\" class=\"dataframe\">\n",
       "  <thead>\n",
       "    <tr>\n",
       "      <th></th>\n",
       "      <th colspan=\"5\" halign=\"left\">AQI</th>\n",
       "    </tr>\n",
       "    <tr>\n",
       "      <th>long_bucket</th>\n",
       "      <th>-124.20</th>\n",
       "      <th>-122.28</th>\n",
       "      <th>-120.36</th>\n",
       "      <th>-118.44</th>\n",
       "      <th>-116.52</th>\n",
       "    </tr>\n",
       "    <tr>\n",
       "      <th>lat_bucket</th>\n",
       "      <th></th>\n",
       "      <th></th>\n",
       "      <th></th>\n",
       "      <th></th>\n",
       "      <th></th>\n",
       "    </tr>\n",
       "  </thead>\n",
       "  <tbody>\n",
       "    <tr>\n",
       "      <th>32.58</th>\n",
       "      <td>NaN</td>\n",
       "      <td>NaN</td>\n",
       "      <td>65.317391</td>\n",
       "      <td>87.059645</td>\n",
       "      <td>67.955508</td>\n",
       "    </tr>\n",
       "    <tr>\n",
       "      <th>34.41</th>\n",
       "      <td>NaN</td>\n",
       "      <td>50.221983</td>\n",
       "      <td>67.597970</td>\n",
       "      <td>74.442308</td>\n",
       "      <td>58.294118</td>\n",
       "    </tr>\n",
       "    <tr>\n",
       "      <th>36.25</th>\n",
       "      <td>42.792276</td>\n",
       "      <td>51.489882</td>\n",
       "      <td>81.094254</td>\n",
       "      <td>74.704918</td>\n",
       "      <td>NaN</td>\n",
       "    </tr>\n",
       "    <tr>\n",
       "      <th>38.08</th>\n",
       "      <td>38.934803</td>\n",
       "      <td>53.699484</td>\n",
       "      <td>48.977778</td>\n",
       "      <td>NaN</td>\n",
       "      <td>NaN</td>\n",
       "    </tr>\n",
       "    <tr>\n",
       "      <th>39.92</th>\n",
       "      <td>38.790792</td>\n",
       "      <td>55.207065</td>\n",
       "      <td>NaN</td>\n",
       "      <td>NaN</td>\n",
       "      <td>NaN</td>\n",
       "    </tr>\n",
       "  </tbody>\n",
       "</table>\n",
       "</div>"
      ],
      "text/plain": [
       "                   AQI                                            \n",
       "long_bucket    -124.20    -122.28    -120.36    -118.44    -116.52\n",
       "lat_bucket                                                        \n",
       "32.58              NaN        NaN  65.317391  87.059645  67.955508\n",
       "34.41              NaN  50.221983  67.597970  74.442308  58.294118\n",
       "36.25        42.792276  51.489882  81.094254  74.704918        NaN\n",
       "38.08        38.934803  53.699484  48.977778        NaN        NaN\n",
       "39.92        38.790792  55.207065        NaN        NaN        NaN"
      ]
     },
     "execution_count": 30,
     "metadata": {},
     "output_type": "execute_result"
    }
   ],
   "source": [
    "def helper(interval, list):\n",
    "    result = [0] * len(list)\n",
    "    for i in range(len(list)):\n",
    "        for val in interval:\n",
    "            if list.iloc[i] >= val:\n",
    "                result[i] = np.round(val, 2)\n",
    "    return result\n",
    "\n",
    "def bucket_data(table, aggfunc, resolution):\n",
    "    lat_bucket = np.linspace(table['Latitude'].min(), table['Latitude'].max(), num=resolution, endpoint=False)\n",
    "    long_bucket = np.linspace(table['Longitude'].min(), table['Longitude'].max(), num=resolution, endpoint=False)\n",
    "    temp = table.copy()\n",
    "    temp['lat_bucket'] = helper(lat_bucket, table['Latitude'])\n",
    "    temp['long_bucket'] = helper(long_bucket, table['Longitude'])\n",
    "    pivot_cols = ['lat_bucket', 'long_bucket', 'AQI']\n",
    "    temp = temp[pivot_cols]\n",
    "    pivot_table = pd.pivot_table(temp, index='lat_bucket', columns='long_bucket', aggfunc=aggfunc)\n",
    "    return pivot_table\n",
    "\n",
    "\n",
    "bucket_data(epa_data_CA_merged, np.mean, 5)"
   ]
  },
  {
   "cell_type": "code",
   "execution_count": 31,
   "id": "4b097507",
   "metadata": {
    "deletable": false,
    "editable": false
   },
   "outputs": [
    {
     "data": {
      "text/html": [
       "<p><strong><pre style='display: inline;'>q6a</pre></strong> passed!</p>"
      ],
      "text/plain": [
       "q6a results: All test cases passed!"
      ]
     },
     "execution_count": 31,
     "metadata": {},
     "output_type": "execute_result"
    }
   ],
   "source": [
    "grader.check(\"q6a\")"
   ]
  },
  {
   "cell_type": "markdown",
   "id": "39ec7023",
   "metadata": {
    "deletable": false,
    "editable": false
   },
   "source": [
    "<br/>\n",
    "\n",
    "### Question 6b: Visualize Heatmap\n",
    "\n",
    "Assign `heatmap_data` to a heatmap bucket pivot table aggregated by median with resolution 30 for California AQI for the month of september. The code in the following cell will plot this heatmap for you. \n",
    "\n",
    "<!--\n",
    "BEGIN QUESTION\n",
    "name: q6b\n",
    "points: 1\n",
    "-->"
   ]
  },
  {
   "cell_type": "code",
   "execution_count": 32,
   "id": "80dddafb",
   "metadata": {},
   "outputs": [
    {
     "data": {
      "image/png": "[encoded data removed]",
      "text/plain": [
       "<Figure size 1080x576 with 2 Axes>"
      ]
     },
     "metadata": {
      "needs_background": "light"
     },
     "output_type": "display_data"
    }
   ],
   "source": [
    "ca_sep = epa_data_CA_merged[epa_data_CA_merged['Month'] == 9]\n",
    "heatmap_data = bucket_data(ca_sep, np.median, 30)\n",
    "\n",
    "#create visualization\n",
    "plt.figure(figsize=(15, 8))\n",
    "ax = sns.heatmap(heatmap_data, vmin=0, vmax=230, cmap = sns.cm.rocket_r)\n",
    "ax.invert_yaxis()\n",
    "plt.show()"
   ]
  },
  {
   "cell_type": "code",
   "execution_count": 33,
   "id": "f26c7478",
   "metadata": {
    "deletable": false,
    "editable": false
   },
   "outputs": [
    {
     "data": {
      "text/html": [
       "<p><strong><pre style='display: inline;'>q6b</pre></strong> passed!</p>"
      ],
      "text/plain": [
       "q6b results: All test cases passed!"
      ]
     },
     "execution_count": 33,
     "metadata": {},
     "output_type": "execute_result"
    }
   ],
   "source": [
    "grader.check(\"q6b\")"
   ]
  },
  {
   "cell_type": "markdown",
   "id": "dfc1c343",
   "metadata": {
    "deletable": false,
    "editable": false
   },
   "source": [
    "<!-- BEGIN QUESTION -->\n",
    "\n",
    "<br/>\n",
    "\n",
    "### Question 6c: Analyze Heatmap\n",
    "\n",
    "Look up where the dark regions correspond to. Does this heatmap make sense?\n",
    "\n",
    "<!--\n",
    "BEGIN QUESTION\n",
    "name: q6c\n",
    "manual: True\n",
    "points: 2\n",
    "-->"
   ]
  },
  {
   "cell_type": "markdown",
   "id": "1338999e",
   "metadata": {},
   "source": [
    "The dark regoins are primarily in the center, where longitude is around -119 and latitude is around 37. The heatmap makes sense. It has the same shape as the shape of California. It shows that the air is more polluted around the center and east side of California, which is more distant from the ocean, compared to other regions."
   ]
  },
  {
   "cell_type": "markdown",
   "id": "bb9e18aa",
   "metadata": {},
   "source": [
    "<!-- END QUESTION -->\n",
    "\n",
    "\n",
    "\n",
    "<br/><br/>\n",
    "\n",
    "---\n",
    "## Part 3: Open-Ended EDA\n",
    "\n",
    "Not that we have explored the data both spatially and temporally, we want to be able to look at what other indicators there are for air quality in California. Through the previous few questions we have discussed that wilfire data as well as temperature may be good indicators, but we can explitly look at correlations via the temperature to verify our hypothesis. Like temperature, there are other columns of data such as particulate matter, chemical concentrations, wind data, etc. Your open-ended EDA will be useful for filling in missing points in the heatmap that you created in question 4b. \n",
    "\n",
    "Your goal in this question is to find relationships between AQI and other features in the current datasets, across time and space. Your exploration can include, but is not limited to: \n",
    "- Looking at correlations between AQI and various columns of interest in `epa_data_CA`.\n",
    "    - This will require some merging, which you can look at question 1 for reference. \n",
    "- Performing clustering and/or other unsupervised learning methods such as PCA to discover clusters or useful (combinations of) features in the data.\n",
    "- Merging and exploring other external datasets that you may think are useful."
   ]
  },
  {
   "cell_type": "markdown",
   "id": "af361520",
   "metadata": {
    "deletable": false,
    "editable": false
   },
   "source": [
    "<!-- BEGIN QUESTION -->\n",
    "\n",
    "### Question 7a - Code and Analysis\n",
    "\n",
    "Please complete all of your analysis in the **single cell** below based on the prompt above.\n",
    "\n",
    "<!--\n",
    "BEGIN QUESTION\n",
    "name: q7a\n",
    "manual: True\n",
    "points: 10\n",
    "-->"
   ]
  },
  {
   "cell_type": "code",
   "execution_count": 34,
   "id": "d584c43f",
   "metadata": {},
   "outputs": [
    {
     "data": {
      "text/html": [
       "<div>\n",
       "<style scoped>\n",
       "    .dataframe tbody tr th:only-of-type {\n",
       "        vertical-align: middle;\n",
       "    }\n",
       "\n",
       "    .dataframe tbody tr th {\n",
       "        vertical-align: top;\n",
       "    }\n",
       "\n",
       "    .dataframe thead th {\n",
       "        text-align: right;\n",
       "    }\n",
       "</style>\n",
       "<table border=\"1\" class=\"dataframe\">\n",
       "  <thead>\n",
       "    <tr style=\"text-align: right;\">\n",
       "      <th></th>\n",
       "      <th>State</th>\n",
       "      <th>County</th>\n",
       "      <th>Year</th>\n",
       "      <th>Days with AQI</th>\n",
       "      <th>Good Days</th>\n",
       "      <th>Moderate Days</th>\n",
       "      <th>Unhealthy for Sensitive Groups Days</th>\n",
       "      <th>Unhealthy Days</th>\n",
       "      <th>Very Unhealthy Days</th>\n",
       "      <th>Hazardous Days</th>\n",
       "      <th>Max AQI</th>\n",
       "      <th>90th Percentile AQI</th>\n",
       "      <th>Median AQI</th>\n",
       "      <th>Days CO</th>\n",
       "      <th>Days NO2</th>\n",
       "      <th>Days Ozone</th>\n",
       "      <th>Days SO2</th>\n",
       "      <th>Days PM2.5</th>\n",
       "      <th>Days PM10</th>\n",
       "    </tr>\n",
       "  </thead>\n",
       "  <tbody>\n",
       "    <tr>\n",
       "      <th>0</th>\n",
       "      <td>Alabama</td>\n",
       "      <td>Baldwin</td>\n",
       "      <td>2020</td>\n",
       "      <td>269</td>\n",
       "      <td>250</td>\n",
       "      <td>19</td>\n",
       "      <td>0</td>\n",
       "      <td>0</td>\n",
       "      <td>0</td>\n",
       "      <td>0</td>\n",
       "      <td>74</td>\n",
       "      <td>49</td>\n",
       "      <td>36</td>\n",
       "      <td>0</td>\n",
       "      <td>0</td>\n",
       "      <td>198</td>\n",
       "      <td>0</td>\n",
       "      <td>71</td>\n",
       "      <td>0</td>\n",
       "    </tr>\n",
       "    <tr>\n",
       "      <th>1</th>\n",
       "      <td>Alabama</td>\n",
       "      <td>Clay</td>\n",
       "      <td>2020</td>\n",
       "      <td>108</td>\n",
       "      <td>99</td>\n",
       "      <td>9</td>\n",
       "      <td>0</td>\n",
       "      <td>0</td>\n",
       "      <td>0</td>\n",
       "      <td>0</td>\n",
       "      <td>86</td>\n",
       "      <td>49</td>\n",
       "      <td>26</td>\n",
       "      <td>0</td>\n",
       "      <td>0</td>\n",
       "      <td>0</td>\n",
       "      <td>0</td>\n",
       "      <td>108</td>\n",
       "      <td>0</td>\n",
       "    </tr>\n",
       "    <tr>\n",
       "      <th>2</th>\n",
       "      <td>Alabama</td>\n",
       "      <td>DeKalb</td>\n",
       "      <td>2020</td>\n",
       "      <td>364</td>\n",
       "      <td>350</td>\n",
       "      <td>14</td>\n",
       "      <td>0</td>\n",
       "      <td>0</td>\n",
       "      <td>0</td>\n",
       "      <td>0</td>\n",
       "      <td>90</td>\n",
       "      <td>45</td>\n",
       "      <td>36</td>\n",
       "      <td>0</td>\n",
       "      <td>0</td>\n",
       "      <td>331</td>\n",
       "      <td>0</td>\n",
       "      <td>33</td>\n",
       "      <td>0</td>\n",
       "    </tr>\n",
       "    <tr>\n",
       "      <th>3</th>\n",
       "      <td>Alabama</td>\n",
       "      <td>Elmore</td>\n",
       "      <td>2020</td>\n",
       "      <td>197</td>\n",
       "      <td>197</td>\n",
       "      <td>0</td>\n",
       "      <td>0</td>\n",
       "      <td>0</td>\n",
       "      <td>0</td>\n",
       "      <td>0</td>\n",
       "      <td>47</td>\n",
       "      <td>41</td>\n",
       "      <td>31</td>\n",
       "      <td>0</td>\n",
       "      <td>0</td>\n",
       "      <td>197</td>\n",
       "      <td>0</td>\n",
       "      <td>0</td>\n",
       "      <td>0</td>\n",
       "    </tr>\n",
       "    <tr>\n",
       "      <th>4</th>\n",
       "      <td>Alabama</td>\n",
       "      <td>Etowah</td>\n",
       "      <td>2020</td>\n",
       "      <td>278</td>\n",
       "      <td>260</td>\n",
       "      <td>18</td>\n",
       "      <td>0</td>\n",
       "      <td>0</td>\n",
       "      <td>0</td>\n",
       "      <td>0</td>\n",
       "      <td>92</td>\n",
       "      <td>46</td>\n",
       "      <td>34</td>\n",
       "      <td>0</td>\n",
       "      <td>0</td>\n",
       "      <td>204</td>\n",
       "      <td>0</td>\n",
       "      <td>74</td>\n",
       "      <td>0</td>\n",
       "    </tr>\n",
       "  </tbody>\n",
       "</table>\n",
       "</div>"
      ],
      "text/plain": [
       "     State   County  Year  Days with AQI  Good Days  Moderate Days  \\\n",
       "0  Alabama  Baldwin  2020            269        250             19   \n",
       "1  Alabama     Clay  2020            108         99              9   \n",
       "2  Alabama   DeKalb  2020            364        350             14   \n",
       "3  Alabama   Elmore  2020            197        197              0   \n",
       "4  Alabama   Etowah  2020            278        260             18   \n",
       "\n",
       "   Unhealthy for Sensitive Groups Days  Unhealthy Days  Very Unhealthy Days  \\\n",
       "0                                    0               0                    0   \n",
       "1                                    0               0                    0   \n",
       "2                                    0               0                    0   \n",
       "3                                    0               0                    0   \n",
       "4                                    0               0                    0   \n",
       "\n",
       "   Hazardous Days  Max AQI  90th Percentile AQI  Median AQI  Days CO  \\\n",
       "0               0       74                   49          36        0   \n",
       "1               0       86                   49          26        0   \n",
       "2               0       90                   45          36        0   \n",
       "3               0       47                   41          31        0   \n",
       "4               0       92                   46          34        0   \n",
       "\n",
       "   Days NO2  Days Ozone  Days SO2  Days PM2.5  Days PM10  \n",
       "0         0         198         0          71          0  \n",
       "1         0           0         0         108          0  \n",
       "2         0         331         0          33          0  \n",
       "3         0         197         0           0          0  \n",
       "4         0         204         0          74          0  "
      ]
     },
     "execution_count": 34,
     "metadata": {},
     "output_type": "execute_result"
    }
   ],
   "source": [
    "epa_data.get('annual_county_aqi').head()"
   ]
  },
  {
   "cell_type": "markdown",
   "id": "e40a68bb",
   "metadata": {
    "deletable": false,
    "editable": false
   },
   "source": [
    "<!-- END QUESTION -->\n",
    "\n",
    "<!-- BEGIN QUESTION -->\n",
    "\n",
    "<br/>\n",
    "\n",
    "### Question 7b - Visualization\n",
    "\n",
    "Please create **two** visualizations to summarize your analysis above. The only restrictions are that these visualizations **cannot** simply be scatterplots between two features in the dataset(s) and **cannot** be of the same type (dont make two bar graphs, for example). \n",
    "\n",
    "<!--\n",
    "BEGIN QUESTION\n",
    "name: q7b\n",
    "manual: True\n",
    "points: 4\n",
    "-->"
   ]
  },
  {
   "cell_type": "code",
   "execution_count": 35,
   "id": "3f94c859",
   "metadata": {},
   "outputs": [
    {
     "data": {
      "text/html": [
       "<div>\n",
       "<style scoped>\n",
       "    .dataframe tbody tr th:only-of-type {\n",
       "        vertical-align: middle;\n",
       "    }\n",
       "\n",
       "    .dataframe tbody tr th {\n",
       "        vertical-align: top;\n",
       "    }\n",
       "\n",
       "    .dataframe thead th {\n",
       "        text-align: right;\n",
       "    }\n",
       "</style>\n",
       "<table border=\"1\" class=\"dataframe\">\n",
       "  <thead>\n",
       "    <tr style=\"text-align: right;\">\n",
       "      <th></th>\n",
       "      <th>Units of Measure</th>\n",
       "      <th>Event Type</th>\n",
       "      <th>Observation Count</th>\n",
       "      <th>Observation Percent</th>\n",
       "      <th>Arithmetic Mean</th>\n",
       "      <th>1st Max Value</th>\n",
       "      <th>1st Max Hour</th>\n",
       "      <th>AQI</th>\n",
       "    </tr>\n",
       "  </thead>\n",
       "  <tbody>\n",
       "    <tr>\n",
       "      <th>8709</th>\n",
       "      <td>Degrees Fahrenheit</td>\n",
       "      <td>None</td>\n",
       "      <td>24</td>\n",
       "      <td>100.0</td>\n",
       "      <td>44.816667</td>\n",
       "      <td>58.8</td>\n",
       "      <td>13</td>\n",
       "      <td>NaN</td>\n",
       "    </tr>\n",
       "    <tr>\n",
       "      <th>8710</th>\n",
       "      <td>Degrees Fahrenheit</td>\n",
       "      <td>None</td>\n",
       "      <td>24</td>\n",
       "      <td>100.0</td>\n",
       "      <td>43.483333</td>\n",
       "      <td>59.5</td>\n",
       "      <td>15</td>\n",
       "      <td>NaN</td>\n",
       "    </tr>\n",
       "    <tr>\n",
       "      <th>8711</th>\n",
       "      <td>Degrees Fahrenheit</td>\n",
       "      <td>None</td>\n",
       "      <td>24</td>\n",
       "      <td>100.0</td>\n",
       "      <td>43.916667</td>\n",
       "      <td>61.5</td>\n",
       "      <td>14</td>\n",
       "      <td>NaN</td>\n",
       "    </tr>\n",
       "    <tr>\n",
       "      <th>8712</th>\n",
       "      <td>Degrees Fahrenheit</td>\n",
       "      <td>None</td>\n",
       "      <td>22</td>\n",
       "      <td>92.0</td>\n",
       "      <td>44.500000</td>\n",
       "      <td>59.0</td>\n",
       "      <td>11</td>\n",
       "      <td>NaN</td>\n",
       "    </tr>\n",
       "    <tr>\n",
       "      <th>8713</th>\n",
       "      <td>Degrees Fahrenheit</td>\n",
       "      <td>None</td>\n",
       "      <td>24</td>\n",
       "      <td>100.0</td>\n",
       "      <td>45.600000</td>\n",
       "      <td>54.9</td>\n",
       "      <td>15</td>\n",
       "      <td>NaN</td>\n",
       "    </tr>\n",
       "    <tr>\n",
       "      <th>...</th>\n",
       "      <td>...</td>\n",
       "      <td>...</td>\n",
       "      <td>...</td>\n",
       "      <td>...</td>\n",
       "      <td>...</td>\n",
       "      <td>...</td>\n",
       "      <td>...</td>\n",
       "      <td>...</td>\n",
       "    </tr>\n",
       "    <tr>\n",
       "      <th>63496</th>\n",
       "      <td>Degrees Fahrenheit</td>\n",
       "      <td>None</td>\n",
       "      <td>24</td>\n",
       "      <td>100.0</td>\n",
       "      <td>47.320833</td>\n",
       "      <td>54.7</td>\n",
       "      <td>14</td>\n",
       "      <td>NaN</td>\n",
       "    </tr>\n",
       "    <tr>\n",
       "      <th>63497</th>\n",
       "      <td>Degrees Fahrenheit</td>\n",
       "      <td>None</td>\n",
       "      <td>24</td>\n",
       "      <td>100.0</td>\n",
       "      <td>48.129167</td>\n",
       "      <td>54.7</td>\n",
       "      <td>15</td>\n",
       "      <td>NaN</td>\n",
       "    </tr>\n",
       "    <tr>\n",
       "      <th>63498</th>\n",
       "      <td>Degrees Fahrenheit</td>\n",
       "      <td>None</td>\n",
       "      <td>24</td>\n",
       "      <td>100.0</td>\n",
       "      <td>48.820833</td>\n",
       "      <td>61.5</td>\n",
       "      <td>15</td>\n",
       "      <td>NaN</td>\n",
       "    </tr>\n",
       "    <tr>\n",
       "      <th>63499</th>\n",
       "      <td>Degrees Fahrenheit</td>\n",
       "      <td>None</td>\n",
       "      <td>24</td>\n",
       "      <td>100.0</td>\n",
       "      <td>45.341667</td>\n",
       "      <td>55.6</td>\n",
       "      <td>14</td>\n",
       "      <td>NaN</td>\n",
       "    </tr>\n",
       "    <tr>\n",
       "      <th>63500</th>\n",
       "      <td>Degrees Fahrenheit</td>\n",
       "      <td>None</td>\n",
       "      <td>24</td>\n",
       "      <td>100.0</td>\n",
       "      <td>51.275000</td>\n",
       "      <td>59.2</td>\n",
       "      <td>15</td>\n",
       "      <td>NaN</td>\n",
       "    </tr>\n",
       "  </tbody>\n",
       "</table>\n",
       "<p>54792 rows × 8 columns</p>\n",
       "</div>"
      ],
      "text/plain": [
       "         Units of Measure Event Type  Observation Count  Observation Percent  \\\n",
       "8709   Degrees Fahrenheit       None                 24                100.0   \n",
       "8710   Degrees Fahrenheit       None                 24                100.0   \n",
       "8711   Degrees Fahrenheit       None                 24                100.0   \n",
       "8712   Degrees Fahrenheit       None                 22                 92.0   \n",
       "8713   Degrees Fahrenheit       None                 24                100.0   \n",
       "...                   ...        ...                ...                  ...   \n",
       "63496  Degrees Fahrenheit       None                 24                100.0   \n",
       "63497  Degrees Fahrenheit       None                 24                100.0   \n",
       "63498  Degrees Fahrenheit       None                 24                100.0   \n",
       "63499  Degrees Fahrenheit       None                 24                100.0   \n",
       "63500  Degrees Fahrenheit       None                 24                100.0   \n",
       "\n",
       "       Arithmetic Mean  1st Max Value  1st Max Hour  AQI  \n",
       "8709         44.816667           58.8            13  NaN  \n",
       "8710         43.483333           59.5            15  NaN  \n",
       "8711         43.916667           61.5            14  NaN  \n",
       "8712         44.500000           59.0            11  NaN  \n",
       "8713         45.600000           54.9            15  NaN  \n",
       "...                ...            ...           ...  ...  \n",
       "63496        47.320833           54.7            14  NaN  \n",
       "63497        48.129167           54.7            15  NaN  \n",
       "63498        48.820833           61.5            15  NaN  \n",
       "63499        45.341667           55.6            14  NaN  \n",
       "63500        51.275000           59.2            15  NaN  \n",
       "\n",
       "[54792 rows x 8 columns]"
      ]
     },
     "execution_count": 35,
     "metadata": {},
     "output_type": "execute_result"
    }
   ],
   "source": [
    "epa_data.get('daily_temp').shape, epa_data.get('daily_wind').shape\n",
    "temp_data = epa_data.get('daily_wind')\n",
    "temp_data[temp_data['State Name'] == 'California'][['Units of Measure', 'Event Type', 'Observation Count', 'Observation Percent', 'Arithmetic Mean','1st Max Value', '1st Max Hour', 'AQI']]\n",
    "# temp_data.columns"
   ]
  },
  {
   "cell_type": "code",
   "execution_count": 37,
   "id": "ff813898-0d5b-47d4-a0c2-bd53a822abc0",
   "metadata": {},
   "outputs": [
    {
     "data": {
      "text/html": [
       "<div>\n",
       "<style scoped>\n",
       "    .dataframe tbody tr th:only-of-type {\n",
       "        vertical-align: middle;\n",
       "    }\n",
       "\n",
       "    .dataframe tbody tr th {\n",
       "        vertical-align: top;\n",
       "    }\n",
       "\n",
       "    .dataframe thead th {\n",
       "        text-align: right;\n",
       "    }\n",
       "</style>\n",
       "<table border=\"1\" class=\"dataframe\">\n",
       "  <thead>\n",
       "    <tr style=\"text-align: right;\">\n",
       "      <th></th>\n",
       "      <th>State Name</th>\n",
       "      <th>County Name</th>\n",
       "      <th>Year</th>\n",
       "      <th>Month</th>\n",
       "      <th>Day</th>\n",
       "      <th>AQI</th>\n",
       "      <th>Category</th>\n",
       "      <th>Defining Site</th>\n",
       "      <th>Latitude</th>\n",
       "      <th>Longitude</th>\n",
       "      <th>Temp Mean</th>\n",
       "      <th>Wind Mean</th>\n",
       "    </tr>\n",
       "  </thead>\n",
       "  <tbody>\n",
       "    <tr>\n",
       "      <th>727</th>\n",
       "      <td>California</td>\n",
       "      <td>Butte</td>\n",
       "      <td>2020</td>\n",
       "      <td>1</td>\n",
       "      <td>3</td>\n",
       "      <td>74</td>\n",
       "      <td>Moderate</td>\n",
       "      <td>06-007-0008</td>\n",
       "      <td>39.76168</td>\n",
       "      <td>-121.84047</td>\n",
       "      <td>47.100000</td>\n",
       "      <td>1.329167</td>\n",
       "    </tr>\n",
       "    <tr>\n",
       "      <th>729</th>\n",
       "      <td>California</td>\n",
       "      <td>Butte</td>\n",
       "      <td>2020</td>\n",
       "      <td>1</td>\n",
       "      <td>5</td>\n",
       "      <td>60</td>\n",
       "      <td>Moderate</td>\n",
       "      <td>06-007-0008</td>\n",
       "      <td>39.76168</td>\n",
       "      <td>-121.84047</td>\n",
       "      <td>46.341667</td>\n",
       "      <td>1.158333</td>\n",
       "    </tr>\n",
       "    <tr>\n",
       "      <th>730</th>\n",
       "      <td>California</td>\n",
       "      <td>Butte</td>\n",
       "      <td>2020</td>\n",
       "      <td>1</td>\n",
       "      <td>6</td>\n",
       "      <td>47</td>\n",
       "      <td>Good</td>\n",
       "      <td>06-007-0008</td>\n",
       "      <td>39.76168</td>\n",
       "      <td>-121.84047</td>\n",
       "      <td>43.329167</td>\n",
       "      <td>1.612500</td>\n",
       "    </tr>\n",
       "    <tr>\n",
       "      <th>732</th>\n",
       "      <td>California</td>\n",
       "      <td>Butte</td>\n",
       "      <td>2020</td>\n",
       "      <td>1</td>\n",
       "      <td>8</td>\n",
       "      <td>68</td>\n",
       "      <td>Moderate</td>\n",
       "      <td>06-007-0008</td>\n",
       "      <td>39.76168</td>\n",
       "      <td>-121.84047</td>\n",
       "      <td>46.541667</td>\n",
       "      <td>1.929167</td>\n",
       "    </tr>\n",
       "    <tr>\n",
       "      <th>743</th>\n",
       "      <td>California</td>\n",
       "      <td>Butte</td>\n",
       "      <td>2020</td>\n",
       "      <td>1</td>\n",
       "      <td>19</td>\n",
       "      <td>66</td>\n",
       "      <td>Moderate</td>\n",
       "      <td>06-007-0008</td>\n",
       "      <td>39.76168</td>\n",
       "      <td>-121.84047</td>\n",
       "      <td>43.829167</td>\n",
       "      <td>0.829167</td>\n",
       "    </tr>\n",
       "  </tbody>\n",
       "</table>\n",
       "</div>"
      ],
      "text/plain": [
       "     State Name County Name  Year  Month  Day  AQI  Category Defining Site  \\\n",
       "727  California       Butte  2020      1    3   74  Moderate   06-007-0008   \n",
       "729  California       Butte  2020      1    5   60  Moderate   06-007-0008   \n",
       "730  California       Butte  2020      1    6   47      Good   06-007-0008   \n",
       "732  California       Butte  2020      1    8   68  Moderate   06-007-0008   \n",
       "743  California       Butte  2020      1   19   66  Moderate   06-007-0008   \n",
       "\n",
       "     Latitude  Longitude  Temp Mean  Wind Mean  \n",
       "727  39.76168 -121.84047  47.100000   1.329167  \n",
       "729  39.76168 -121.84047  46.341667   1.158333  \n",
       "730  39.76168 -121.84047  43.329167   1.612500  \n",
       "732  39.76168 -121.84047  46.541667   1.929167  \n",
       "743  39.76168 -121.84047  43.829167   0.829167  "
      ]
     },
     "execution_count": 37,
     "metadata": {},
     "output_type": "execute_result"
    }
   ],
   "source": [
    "cols = ['State Name', 'county Name', 'Year', 'Month', 'Day', 'AQI', 'Category', 'Defining Site', 'Latitude', 'Longitude']\n",
    "aqs_sites = epa_data.get('aqs_sites')\n",
    "daily_county_aqi = epa_data_CA.get('daily_county_aqi')\n",
    "\n",
    "def table_selection(df):\n",
    "    result = df\n",
    "    result['Year'] = pd.DatetimeIndex(result['Date Local']).year\n",
    "    result['Month'] = pd.DatetimeIndex(result['Date Local']).month\n",
    "    result['Day'] = pd.DatetimeIndex(result['Date Local']).day\n",
    "    # result = result[result['Year']== 2020]\n",
    "    result['State ID'] = result['State Code'].astype(str).str.zfill(2)\n",
    "    result['County ID'] = result['County Code'].astype(str).str.zfill(3)\n",
    "    result['Site ID'] = result['Site Num'].astype(str).str.zfill(4)\n",
    "    result['Defining Site'] = result['State ID'] + '-' + result['County ID'] + '-' + result['Site ID']\n",
    "    result = result[['Arithmetic Mean', 'Defining Site', 'Year', 'Month', 'Day']]\n",
    "    return result\n",
    "    \n",
    "temp_data = epa_data.get('daily_wind') \n",
    "temp_cleaned = table_selection(temp_data)\n",
    "ca_temp_2020 = temp_cleaned.rename(columns = {'Arithmetic Mean' : 'Temp Mean'})\n",
    "\n",
    "wind_data = epa_data.get('daily_temp')\n",
    "wind_data = wind_data[wind_data['Units of Measure'] == 'Knots']\n",
    "wind_cleaned = table_selection(wind_data)\n",
    "ca_wind_2020 = wind_cleaned.rename(columns = {'Arithmetic Mean' : 'Wind Mean'})\n",
    "\n",
    "co_data = epa_data.get('daily_co')\n",
    "co_cleaned = table_selection(co_data)\n",
    "ca_co_2020 = co_cleaned.rename(columns = {'Arithmetic Mean' : 'co Mean'})\n",
    "\n",
    "no2_data = epa_data.get('daily_no2')\n",
    "no2_cleaned = table_selection(no2_data)\n",
    "ca_no2_2020 = no2_cleaned.rename(columns = {'Arithmetic Mean' : 'no2 Mean'})\n",
    "\n",
    "so2_data = epa_data.get('daily_so2')\n",
    "so2_cleaned = table_selection(so2_data)\n",
    "ca_so2_2020 = so2_cleaned.rename(columns = {'Arithmetic Mean' : 'so2 Mean'})\n",
    "\n",
    "ozone_data = epa_data.get('daily_ozone')\n",
    "ozone_cleaned = table_selection(ozone_data)\n",
    "ca_ozone_2020 = ozone_cleaned.rename(columns = {'Arithmetic Mean' : 'ozone Mean'})\n",
    "\n",
    "\n",
    "aqs_sites['State ID'] = aqs_sites['State Code'].astype(str).str.zfill(2)\n",
    "aqs_sites['County ID'] = aqs_sites['County Code'].astype(str).str.zfill(3)\n",
    "aqs_sites['Site ID'] = aqs_sites['Site Number'].astype(str).str.zfill(4)\n",
    "aqs_sites['Defining Site'] = aqs_sites['State ID'] + '-' + aqs_sites['County ID'] + '-' + aqs_sites['Site ID']\n",
    "aqs_sites = aqs_sites[['Latitude', 'Longitude', 'Defining Site']] \n",
    "daily_county_aqi['Year'] = pd.DatetimeIndex(daily_county_aqi['Date']).year\n",
    "new_df = daily_county_aqi.merge(aqs_sites,  how='left', left_on=['Defining Site'], right_on = ['Defining Site'])\n",
    "epa_data_CA_merged1 = new_df[cols]\n",
    "\n",
    "merge_col = ['Defining Site', 'Year', 'Month', 'Day']\n",
    "epa_all = epa_data_CA_merged1.merge(ca_temp_2020, how = 'left', left_on=merge_col, right_on=merge_col)\n",
    "epa_all = epa_all.merge(ca_wind_2020, how = 'left', left_on=merge_col, right_on=merge_col)\n",
    "epa_all = epa_all.merge(ca_no2_2020, how = 'left', left_on=merge_col, right_on=merge_col)\n",
    "epa_all = epa_all.rename(columns = {'county Name' : 'County Name'})\n",
    "epa_all = epa_all.dropna()\n",
    "\n",
    "epa_2020_CA_wind_temp = epa_all[(epa_all['Year'] == 2020) & (epa_all['State Name'] == 'California')].iloc[:, :-1]\n",
    "epa_2020_CA_wind_temp.head()                                \n",
    "                                \n",
    "                                "
   ]
  },
  {
   "cell_type": "code",
   "execution_count": 38,
   "id": "1e4238d9-6dc9-4235-9667-327b1a85105c",
   "metadata": {},
   "outputs": [
    {
     "data": {
      "text/plain": [
       "(-11.194309632941469, 1.2770397840707528)"
      ]
     },
     "execution_count": 38,
     "metadata": {},
     "output_type": "execute_result"
    }
   ],
   "source": [
    "from sklearn import linear_model as lm\n",
    "api_wind_model = lm.LinearRegression(fit_intercept=True)\n",
    "api_temp_model = lm.LinearRegression(fit_intercept=True)\n",
    "\n",
    "temp_mean = epa_2020_CA_wind_temp[['Temp Mean']]\n",
    "wind_mean = epa_2020_CA_wind_temp[['Wind Mean']]\n",
    "aqi = epa_2020_CA_wind_temp['AQI']\n",
    "api_wind_model.fit(temp_mean, aqi)\n",
    "api_temp_model.fit(wind_mean, aqi)\n",
    "\n",
    "aqi_fitted_wind = api_wind_model.predict(temp_mean)\n",
    "api_fitted_temp = api_temp_model.predict(wind_mean)\n",
    "\n",
    "api_wind_model.intercept_, api_wind_model.coef_[0]"
   ]
  },
  {
   "cell_type": "code",
   "execution_count": 39,
   "id": "d15812c1-c3e1-4518-86c2-3357b29b99bb",
   "metadata": {},
   "outputs": [
    {
     "data": {
      "image/png": "[encoded data removed]",
      "text/plain": [
       "<Figure size 432x288 with 1 Axes>"
      ]
     },
     "metadata": {
      "needs_background": "light"
     },
     "output_type": "display_data"
    }
   ],
   "source": [
    "plt.scatter(aqi_fitted_wind, aqi, s=20)\n",
    "plt.ylim(0, 100)\n",
    "plt.title(\"Actual AQI vs Predicted AQI (Using Wind)\")\n",
    "plt.xlabel(\"Predicted AQI\")\n",
    "plt.ylabel(\"Actual AQI\");"
   ]
  },
  {
   "cell_type": "code",
   "execution_count": 40,
   "id": "e24bd1e6-bfee-4da9-bd49-0f19e43681e9",
   "metadata": {},
   "outputs": [
    {
     "data": {
      "image/png": "[encoded data removed]",
      "text/plain": [
       "<Figure size 432x288 with 1 Axes>"
      ]
     },
     "metadata": {
      "needs_background": "light"
     },
     "output_type": "display_data"
    }
   ],
   "source": [
    "plt.scatter(api_fitted_temp, aqi, s=20)\n",
    "plt.title(\"Actual AQI vs Predicted AQI (Using Temperature)\")\n",
    "plt.xlabel(\"Predicted AQI\")\n",
    "plt.ylabel(\"Actual AQI\");"
   ]
  },
  {
   "cell_type": "code",
   "execution_count": 41,
   "id": "0d3c05f9-1318-4cdc-be08-c0227f55beb2",
   "metadata": {},
   "outputs": [
    {
     "data": {
      "image/png": "[encoded data removed]",
      "text/plain": [
       "<Figure size 432x288 with 1 Axes>"
      ]
     },
     "metadata": {
      "needs_background": "light"
     },
     "output_type": "display_data"
    }
   ],
   "source": [
    "wind_temp = epa_2020_CA_wind_temp[['Wind Mean', 'Temp Mean']]\n",
    "aqi_combined_model = lm.LinearRegression(fit_intercept=True)\n",
    "aqi_combined_model.fit(wind_temp, aqi)\n",
    "api_fitted_combined = aqi_combined_model.predict(wind_temp)\n",
    "plt.scatter(api_fitted_combined, aqi, s=20)\n",
    "plt.ylim(20, 150)\n",
    "plt.title(\"Actual AQI vs Predicted AQI (Using Wind & Temperature)\")\n",
    "plt.xlabel(\"Predicted AQI\")\n",
    "plt.ylabel(\"Actual AQI\");"
   ]
  },
  {
   "cell_type": "code",
   "execution_count": 42,
   "id": "04fd980d-1c5d-47f3-a012-d4eb68175ccf",
   "metadata": {},
   "outputs": [],
   "source": [
    "month = epa_2020_CA_wind_temp[['Month']]\n",
    "aqi_month_model = lm.LinearRegression(fit_intercept=True)\n",
    "aqi_combined_model.fit(month, aqi)\n",
    "aqi_fitted_month = aqi_combined_model.predict(month)"
   ]
  },
  {
   "cell_type": "code",
   "execution_count": 43,
   "id": "34bce7d5-f55e-4cd2-b196-b83639cbf15c",
   "metadata": {},
   "outputs": [
    {
     "data": {
      "image/png": "[encoded data removed]",
      "text/plain": [
       "<Figure size 432x288 with 1 Axes>"
      ]
     },
     "metadata": {
      "needs_background": "light"
     },
     "output_type": "display_data"
    }
   ],
   "source": [
    "import seaborn as sns\n",
    "temp = epa_2020_CA_wind_temp.copy()\n",
    "temp = temp[(temp['AQI'] <=300) & (temp['AQI'] >= 15)]\n",
    "sns.boxplot(x = 'Month', y='AQI', data = temp)\n",
    "plt.title('AQI vs Month');"
   ]
  },
  {
   "cell_type": "code",
   "execution_count": 44,
   "id": "f45c80ae-7f77-4f6b-8e88-262b1d69ca7b",
   "metadata": {},
   "outputs": [],
   "source": [
    "temp_groups = np.arange(15, 120, 3)\n",
    "length = len(temp['AQI'])\n",
    "result = [0] * length\n",
    "for i in range(length):\n",
    "    for val in temp_groups:\n",
    "        if temp['Temp Mean'].iloc[i] >= val:\n",
    "            result[i] = val\n",
    "temp['temp_group'] = result\n",
    "temp_group_count = temp.groupby('temp_group').agg(np.mean)"
   ]
  },
  {
   "cell_type": "code",
   "execution_count": 45,
   "id": "b6d2e8c8-88da-44d8-82c4-34e9f3f932c3",
   "metadata": {},
   "outputs": [
    {
     "data": {
      "image/png": "[encoded data removed]",
      "text/plain": [
       "<Figure size 432x288 with 1 Axes>"
      ]
     },
     "metadata": {
      "needs_background": "light"
     },
     "output_type": "display_data"
    }
   ],
   "source": [
    "sns.lineplot(x = 'temp_group', y='AQI', data = temp_group_count, markers=False);\n",
    "plt.title(\"AQI vs Temperature\")\n",
    "plt.ylabel(\"Average AQI\")\n",
    "plt.xlabel(\"Temperature (F)\");"
   ]
  },
  {
   "cell_type": "code",
   "execution_count": 46,
   "id": "3a30b50e-fd29-43bf-9075-a439c658b2e5",
   "metadata": {},
   "outputs": [
    {
     "data": {
      "image/png": "[encoded data removed]",
      "text/plain": [
       "<Figure size 432x288 with 1 Axes>"
      ]
     },
     "metadata": {
      "needs_background": "light"
     },
     "output_type": "display_data"
    }
   ],
   "source": [
    "wind_groups = np.arange(0, 25, 1)\n",
    "length = len(temp['AQI'])\n",
    "result = [0] * length\n",
    "for i in range(length):\n",
    "    for val in wind_groups:\n",
    "        if temp['Wind Mean'].iloc[i] >= val:\n",
    "            result[i] = val\n",
    "temp['wind_group'] = result\n",
    "wind_group_count = temp.groupby('wind_group').agg(np.mean)\n",
    "\n",
    "sns.lineplot(x = 'wind_group', y='AQI', data = wind_group_count, markers=False);\n",
    "plt.title(\"AQI vs Wind Speed\")\n",
    "plt.ylabel(\"Average AQI\")\n",
    "plt.xlabel(\"Wind Speed (Knots)\");"
   ]
  },
  {
   "cell_type": "markdown",
   "id": "331e4060",
   "metadata": {
    "deletable": false,
    "editable": false
   },
   "source": [
    "<!-- END QUESTION -->\n",
    "\n",
    "<!-- BEGIN QUESTION -->\n",
    "\n",
    "<br/>\n",
    "\n",
    "### Question 7c - Summary\n",
    "\n",
    "In a paragraph, summarize the your findings and visualizations and explain how they will be useful for predicting AQI. Make sure that your answer is thoughtful and detailed in that it describes what you did and how you reached your conclusion. \n",
    "\n",
    "<!--\n",
    "BEGIN QUESTION\n",
    "name: q7c\n",
    "manual: True\n",
    "points: 4\n",
    "-->"
   ]
  },
  {
   "cell_type": "markdown",
   "id": "540a0fb7",
   "metadata": {},
   "source": [
    "According to our box plot. The median AQI is generally low from March to June--about 35, though there are occasionally some outliers. For the rest of the year, the median AQI is relatively high, ranging from 50 to over 100. Then we attempt to visualize the relationship between wind and AQI. We used linear regression to model wind and AQI and found that there is a weak negative relationship between wind and AQI. The slope and intercept of our linear regression line is -0.00354 and 68.64432747071004. Next, we used both wind and temperature to model AQI. The coefficients are 1.27507759, -0.00799342, and the intercept is -9.754801085428369.  We discovered a positive correlation between temperature and AQI and a negative correlation between wind and AQI. Therefore, our model suggests that the higher the temperature is, the higher AQI is, and the lower the strength of wind, the higher AQI is (the air is more polluted), which is helpful when predicting AQI. After modeling the data with linear regression, we also used line plots to visualize the correlation found utilizing linear regression. The first line plot visualizes relationship between temperature and AQI. The x-axis is temperature, which ranges from 15 Fahrenheit to 120 Fahrenheit and increases by 3 Fahrenheit each time; the y-axis is the mean AQI of every specific temperature. Although the mean AQI fluctuates as temperature increases, we can see that the mean AQI increases as temperature increases. The second line plot visualizes relationship between wind and AQI. The x-axis is the strength of wind, which ranges from 0 to 25 Knots; the y-axis is the mean AQI of every specific wind strength."
   ]
  },
  {
   "cell_type": "markdown",
   "id": "7bed937a",
   "metadata": {},
   "source": [
    "<!-- END QUESTION -->\n",
    "\n",
    "\n",
    "\n",
    "<br/><br/>\n",
    "\n",
    "---\n",
    "## Part 4: Guided Modeling\n",
    "\n",
    "For this part, we will be looking at some open-ended modeling approaches to answering the question of predicting AQI given a location and a date. \n",
    "\n",
    "### Question 8 - Interpolation\n",
    "\n",
    "For this part, we will be using a simple interpolation to find the missing grid values for AQI on the heatmap visualization that you produced in part 1. Simple linear interpolation just takes the locations' values and averages them to produce an estimate of the current location. Though this is not as predictive (we are not predicting based on features about the location itself), it will give you a sense of the task at hand for the remainder of the project. \n",
    "\n",
    "As a reminder, the heatmap produced after running the cell below is the one you produced for question 6b when creating a visualization for the AQI in California for the month of september. It produces white spaces where there exist `NaN` values in the pivot table. "
   ]
  },
  {
   "cell_type": "code",
   "execution_count": 47,
   "id": "61fe3c84",
   "metadata": {},
   "outputs": [
    {
     "data": {
      "image/png": "[encoded data removed]",
      "text/plain": [
       "<Figure size 1080x576 with 2 Axes>"
      ]
     },
     "metadata": {
      "needs_background": "light"
     },
     "output_type": "display_data"
    }
   ],
   "source": [
    "table_sep = epa_data_CA_merged[epa_data_CA_merged['Month'] == 9]\n",
    "heatmap_data = bucket_data(table_sep, np.median, 25)\n",
    "\n",
    "plt.figure(figsize=(15, 8))\n",
    "ax = sns.heatmap(heatmap_data, vmin=0, vmax=230, cmap = sns.cm.rocket_r)\n",
    "ax.invert_yaxis()\n",
    "plt.show()"
   ]
  },
  {
   "cell_type": "markdown",
   "id": "518c3a87",
   "metadata": {
    "deletable": false,
    "editable": false
   },
   "source": [
    "<br/>\n",
    "\n",
    "### Question 8a - Simple Linear Interpolation\n",
    "As previously mentioned, interpolation is a technique that is used to predict labels in a dataset by forming a model out of the data that is already labelled. In this case, we have a pivot table that we use to create a heatmap, but there contains many `NaN` values that we want to fill in. \n",
    "\n",
    "- Create the function `fill_bucket` that takes in the following parameters:\n",
    "    - `pivot_table`: the pivot table that we are providing. \n",
    "    - `lat_bucket`: the bucket number that the latitude is in, indexed by zero. ex. if there are 25 buckets, they are numbered $ 0, 2, \\dots 24 $, from lowest to highest value latitudes. \n",
    "    - `lon_bucket`: the bucket number that the longitude is in, indexed by zero. ex. if there are 25 buckets, they are numbered $ 0, 2, \\dots 24 $. from lowest to highest value longitudes.\n",
    "    \n",
    "- In the pivot table, every value has cells above (A cells), cells below (B cells), cells to the left (L cells), and cells to the right (R cells). We will say that a direction (R for example) is valid if and only if there exists a cell **anywhere** to its right that is not `NaN`. The closest such cell will be called the \"closest R cell\". The same goes for the rest of the directions. For the cases below, assuming that our current cell is called cell K. \n",
    "    - If cell K is not `NaN`, then simply return the AQI at that given cell.\n",
    "    - **Only** if there are **at least** three valid directional cells (ex. has A, B, and L valid but not R valid), we will call K *interpolable*. If K is *interpolable*, then interpolate K by assigning it an AQI value equal to the average of the closest cell AQIs in each of the valid directions. \n",
    "    - If K is *not interpolable*, then do not do anything and simply return `NaN`.\n",
    "- The return value of `fill_bucket` should be the the value assigned to K. **DO NOT** mutate the cell K in the pivot table yet.\n",
    "\n",
    "<!--\n",
    "BEGIN QUESTION\n",
    "name: q8a\n",
    "points: 6\n",
    "-->"
   ]
  },
  {
   "cell_type": "code",
   "execution_count": 48,
   "id": "dd43b812",
   "metadata": {},
   "outputs": [
    {
     "data": {
      "text/plain": [
       "94.83333333333333"
      ]
     },
     "execution_count": 48,
     "metadata": {},
     "output_type": "execute_result"
    }
   ],
   "source": [
    "def fill_bucket(pivot_table, lat_bucket, lon_bucket):\n",
    "    val = pivot_table.iloc[lat_bucket, lon_bucket]\n",
    "    if ~ np.isnan(val):\n",
    "        return val\n",
    "    vals = []\n",
    "    columns = pivot_table.shape[1]\n",
    "    rows = pivot_table.shape[0]\n",
    "    # Left\n",
    "    for L_lon in range (lon_bucket - 1, -1, -1):\n",
    "        L = pivot_table.iloc[lat_bucket, L_lon]\n",
    "        if ~np.isnan(L):\n",
    "            vals.append(L)\n",
    "            break\n",
    "    \n",
    "    # Right\n",
    "    for R_lon in range (lon_bucket + 1, columns):\n",
    "        R = pivot_table.iloc[lat_bucket, R_lon]\n",
    "        if ~np.isnan(R):\n",
    "            vals.append(R)\n",
    "            break\n",
    "            \n",
    "    # Above\n",
    "    for A_lat in range(lat_bucket - 1, -1, -1):\n",
    "        A = pivot_table.iloc[A_lat, lon_bucket]\n",
    "        if ~np.isnan(A):\n",
    "            vals.append(A)\n",
    "            break\n",
    "            \n",
    "    # Below\n",
    "    for B_lat in range (lat_bucket + 1, rows):\n",
    "        B = pivot_table.iloc[B_lat, lon_bucket]\n",
    "        if ~np.isnan(B):\n",
    "            vals.append(B)\n",
    "            break\n",
    "    \n",
    "    if len(vals) >= 3:\n",
    "        return np.mean(vals)\n",
    "    \n",
    "    return np.nan\n",
    "    \n",
    "fill_bucket(heatmap_data, 1, 19)"
   ]
  },
  {
   "cell_type": "code",
   "execution_count": 49,
   "id": "62eab44a",
   "metadata": {
    "deletable": false,
    "editable": false
   },
   "outputs": [
    {
     "data": {
      "text/html": [
       "<p><strong><pre style='display: inline;'>q8a</pre></strong> passed!</p>"
      ],
      "text/plain": [
       "q8a results: All test cases passed!"
      ]
     },
     "execution_count": 49,
     "metadata": {},
     "output_type": "execute_result"
    }
   ],
   "source": [
    "grader.check(\"q8a\")"
   ]
  },
  {
   "cell_type": "markdown",
   "id": "1f24e9a7",
   "metadata": {
    "deletable": false,
    "editable": false
   },
   "source": [
    "<br/>\n",
    "\n",
    "### Question 8b - Create Filled Heatmap\n",
    "\n",
    "Now that you have created the `fill_bucket` function, we want to actually use it to fill in the values in `heatmap_data`. Complete the function `fill_all` that takes in the pivot table and fills in all the values and produces a pivot table with the updated values. **DO NOT** mutate the original pivot table. Instead, produce a new pivot table that that contains the filled values. \n",
    "\n",
    "One point to note is that when we update a cell here, we do not use any surrounding *interpolated* cells to do our interpolation on any given cell. As a result, we will always use the **original** pivot table to find surrounding cells and interpolate.\n",
    "\n",
    "<!--\n",
    "BEGIN QUESTION\n",
    "name: q8b\n",
    "points: 3\n",
    "-->"
   ]
  },
  {
   "cell_type": "code",
   "execution_count": 51,
   "id": "30dc5001",
   "metadata": {
    "tags": []
   },
   "outputs": [
    {
     "data": {
      "image/png": "[encoded data removed]",
      "text/plain": [
       "<Figure size 1080x576 with 2 Axes>"
      ]
     },
     "metadata": {
      "needs_background": "light"
     },
     "output_type": "display_data"
    }
   ],
   "source": [
    "def fill_all(pivot_table):\n",
    "    result = pivot_table.copy()\n",
    "    columns = pivot_table.shape[1]\n",
    "    rows = pivot_table.shape[0]\n",
    "    for r in range(rows):\n",
    "        for c in range(columns):\n",
    "            result.iloc[r, c] = fill_bucket(pivot_table, r, c)\n",
    "    return result\n",
    "\n",
    "filled_heatmap_data = fill_all(heatmap_data)\n",
    "\n",
    "plt.figure(figsize=(15, 8))\n",
    "ax = sns.heatmap(filled_heatmap_data, vmin=0, vmax=230, cmap = sns.cm.rocket_r)\n",
    "ax.invert_yaxis()\n",
    "plt.show()   \n"
   ]
  },
  {
   "cell_type": "code",
   "execution_count": 52,
   "id": "d94c73af",
   "metadata": {
    "deletable": false,
    "editable": false
   },
   "outputs": [
    {
     "data": {
      "text/html": [
       "<p><strong><pre style='display: inline;'>q8b</pre></strong> passed!</p>"
      ],
      "text/plain": [
       "q8b results: All test cases passed!"
      ]
     },
     "execution_count": 52,
     "metadata": {},
     "output_type": "execute_result"
    }
   ],
   "source": [
    "grader.check(\"q8b\")"
   ]
  },
  {
   "cell_type": "markdown",
   "id": "463b7e54",
   "metadata": {
    "deletable": false,
    "editable": false
   },
   "source": [
    "<!-- BEGIN QUESTION -->\n",
    "\n",
    "<br/>\n",
    "\n",
    "### Question 8c - Other Interpolation Ideas\n",
    "\n",
    "Instead of just interpolating in a simple fashion as we did above, suggest one other way to interpolate (that actually works so do not just say \"put the average of all cells in every `NaN` cell). For example, you can take into account of the distance of the surrounding cells, the number of cells you use, and more. \n",
    "\n",
    "<!--\n",
    "BEGIN QUESTION\n",
    "name: q8c\n",
    "points: 2\n",
    "manual: True\n",
    "-->"
   ]
  },
  {
   "cell_type": "markdown",
   "id": "102cfb47",
   "metadata": {},
   "source": [
    "Instead of using 4 directions R, L, A, B, we can calculate the 4 nearest neighbors that are not NaN, and attach weight relative to their distance. The more distant, the less weight. Then we calculate the avergae of the 4."
   ]
  },
  {
   "cell_type": "markdown",
   "id": "256edc81",
   "metadata": {
    "deletable": false,
    "editable": false
   },
   "source": [
    "<!-- END QUESTION -->\n",
    "\n",
    "<!-- BEGIN QUESTION -->\n",
    "\n",
    "<br/>\n",
    "\n",
    "### Question 9 - Choosing your Loss Function\n",
    "\n",
    "Let us say that you are trying to define a loss function $L(x_{i}, y_{i})$ to use for model, where $x_{i}$ is the input and the $y_{i}$ is a qualitative variable that that model outputs, consisting of the following five groups: good, moderate, unhealthy for sensitive groups, unhealthy, very unhealthy, or hazardous. How would you design your loss function to evaluate your model?\n",
    "\n",
    "<!--\n",
    "BEGIN QUESTION\n",
    "name: q9\n",
    "manual: True\n",
    "points: 2\n",
    "-->"
   ]
  },
  {
   "cell_type": "markdown",
   "id": "06e863ad",
   "metadata": {},
   "source": [
    "Since we plan to use a decision tree, we will use a entropy loss function."
   ]
  },
  {
   "cell_type": "markdown",
   "id": "2ea97f3e",
   "metadata": {},
   "source": [
    "<!-- END QUESTION -->\n",
    "\n",
    "\n",
    "\n",
    "</br></br>\n",
    "\n",
    "### Question 10: Creating your own Model!\n",
    "\n",
    "Now that you have an idea of how to interpolate values, we will be using something more predictive. In this part, your final goal is to be creating a model and function that uses **at least four** features, with at least one of those four features being from an external dataset that you bring in and process yourself. Here are some rules on the model that you should follow: \n",
    "\n",
    "- Using your open-ended EDA analysis, use at least three features in the dataset provided to come up with some sort of predictive model for the AQI for remaining locations not predicted in the heatmap. You are **NOT** allowed to use any more than **one** of the particulate matter features for this model i.e. ozone or CO2 concentrations for example. \n",
    "    - The reason behind this is that AQI is directly based on these values, so there will be in some sense a near 100\\% correlation between AQI and these features under some transformations. \n",
    "- Use at least one feature that comes from an external dataset of choice. Some examples are geographical region (categorical), elevation (quantitative), or wilfire data. \n",
    "    - Reference question 2c of this project to see how to merge external data with the current EPA data.\n",
    "- Your model should, at the end, predict one of the following broad categories for the AQI: good, moderate, unhealthy for sensitive groups, unhealthy, very unhealthy, or hazardous. Note that this specification is different from `fill_bucket` in the sense that instead of returning a value, you will be returning a string for a category.\n",
    "    - As a result, you can either directly predict the category, or the AQI (ex. through regression) and then convert to the category. Category ranges for AQI can be found online.\n",
    "- The final model should be validated with some data that you hold out. You decide how to do this but there should be some model validation accuracy reported. You should be using the loss function that you designed in question 3 in order to do this.\n",
    "\n",
    "---\n",
    "\n",
    "#### Deliverables\n",
    "<br/>\n",
    "\n",
    "**`features`**: This should be a `pd.DataFrame` object that represents the design matrix that will be fed in as input to your model. Each row represents a data point and each column represents a feature. Essentially your $X$ matrix. \n",
    "\n",
    "**`targets`**: This should be a numpy array that where each value corresponds to the AQI value or AQI category for each of the data points in `features`. Essentially your $y$ vector. \n",
    "\n",
    "**`build_model`**: This function should have two parameters: `features` that will be used as input into your model as a `pd.DataFrame` object, and `targets` should be a numpy array of AQI values OR AQI categories. It should return a *function* or *object* that represents your model.\n",
    "\n",
    "**`predict`**: This function should have two parameters: `model`, the model that you build from the previous function `build_model`, and `features` that represent the design matrix for the test values that we want to predict. It should return the **AQI category** (not a value) that the model predicts for these inputs."
   ]
  },
  {
   "cell_type": "markdown",
   "id": "cc24c2fc",
   "metadata": {
    "deletable": false,
    "editable": false
   },
   "source": [
    "<!-- BEGIN QUESTION -->\n",
    "\n",
    "<br/>\n",
    "\n",
    "### Question 10a: Choose Features and Model\n",
    "\n",
    "First, decide on the features that you will be using for your model. How predictive do you think each of the features that you chose will be of the AQI category? Then, how will you choose to make your model (multiple regression, decision trees, etc.)?\n",
    "\n",
    "<!--\n",
    "BEGIN QUESTION\n",
    "name: q10a\n",
    "points: 2\n",
    "manual: True\n",
    "-->"
   ]
  },
  {
   "cell_type": "markdown",
   "id": "5a8c83ba",
   "metadata": {},
   "source": [
    "The features that we will be using are 'Temp Mean', 'Wind Mean', 'so2 Mean', 'AADT', so we incorporated the data on traffic into this. We think that each of these will be pretty predictive as they are in some sense directly related to the AQI levels. Since our target AQI is categorical data, we decided to use a decision tree for our model. "
   ]
  },
  {
   "cell_type": "markdown",
   "id": "ba5c84a3",
   "metadata": {
    "deletable": false,
    "editable": false
   },
   "source": [
    "<!-- END QUESTION -->\n",
    "\n",
    "<br/>\n",
    "\n",
    "### Question 10b: Build Features\n",
    "\n",
    "Create the `build_features` function as described at the beginning of this part. You should also do any cleaning or merging of internal or external datasets in this part. Make sure to read the specifications of the function very carefully. The autograder will provide some sanity checks on your output.\n",
    "\n",
    "<!--\n",
    "BEGIN QUESTION\n",
    "name: q10b\n",
    "points: 3\n",
    "-->"
   ]
  },
  {
   "cell_type": "code",
   "execution_count": 53,
   "id": "f9ee190a-e256-4b2f-a7cc-677fee6422ee",
   "metadata": {},
   "outputs": [
    {
     "data": {
      "text/html": [
       "<div>\n",
       "<style scoped>\n",
       "    .dataframe tbody tr th:only-of-type {\n",
       "        vertical-align: middle;\n",
       "    }\n",
       "\n",
       "    .dataframe tbody tr th {\n",
       "        vertical-align: top;\n",
       "    }\n",
       "\n",
       "    .dataframe thead th {\n",
       "        text-align: right;\n",
       "    }\n",
       "</style>\n",
       "<table border=\"1\" class=\"dataframe\">\n",
       "  <thead>\n",
       "    <tr style=\"text-align: right;\">\n",
       "      <th></th>\n",
       "      <th>Temp Mean</th>\n",
       "      <th>Wind Mean</th>\n",
       "      <th>so2 Mean</th>\n",
       "      <th>AADT</th>\n",
       "    </tr>\n",
       "  </thead>\n",
       "  <tbody>\n",
       "    <tr>\n",
       "      <th>78</th>\n",
       "      <td>47.433333</td>\n",
       "      <td>0.912500</td>\n",
       "      <td>0.066667</td>\n",
       "      <td>307000</td>\n",
       "    </tr>\n",
       "    <tr>\n",
       "      <th>79</th>\n",
       "      <td>47.433333</td>\n",
       "      <td>0.912500</td>\n",
       "      <td>0.037500</td>\n",
       "      <td>307000</td>\n",
       "    </tr>\n",
       "    <tr>\n",
       "      <th>80</th>\n",
       "      <td>51.441667</td>\n",
       "      <td>1.000000</td>\n",
       "      <td>0.141667</td>\n",
       "      <td>307000</td>\n",
       "    </tr>\n",
       "    <tr>\n",
       "      <th>81</th>\n",
       "      <td>51.441667</td>\n",
       "      <td>1.000000</td>\n",
       "      <td>0.112500</td>\n",
       "      <td>307000</td>\n",
       "    </tr>\n",
       "    <tr>\n",
       "      <th>82</th>\n",
       "      <td>47.204167</td>\n",
       "      <td>2.904167</td>\n",
       "      <td>0.000000</td>\n",
       "      <td>307000</td>\n",
       "    </tr>\n",
       "  </tbody>\n",
       "</table>\n",
       "</div>"
      ],
      "text/plain": [
       "    Temp Mean  Wind Mean  so2 Mean    AADT\n",
       "78  47.433333   0.912500  0.066667  307000\n",
       "79  47.433333   0.912500  0.037500  307000\n",
       "80  51.441667   1.000000  0.141667  307000\n",
       "81  51.441667   1.000000  0.112500  307000\n",
       "82  47.204167   2.904167  0.000000  307000"
      ]
     },
     "execution_count": 53,
     "metadata": {},
     "output_type": "execute_result"
    }
   ],
   "source": [
    "epa_withtra = epa_all.merge(gpd_epa_traffic.loc[:, ['Defining Site', 'Month', 'Day', 'AADT']], how = 'left', left_on = ['Defining Site', 'Month', 'Day'],right_on = ['Defining Site', 'Month', 'Day'])\n",
    "epa_withtra = epa_withtra.merge(ca_so2_2020, how = 'left', left_on=['Defining Site', 'Month', 'Day'], right_on=['Defining Site', 'Month', 'Day'])\n",
    "epa_withtra = epa_withtra.dropna()\n",
    "\n",
    "num_rows = epa_withtra.shape[0]\n",
    "aqis = epa_withtra['AQI']\n",
    "classification = []\n",
    "for i in range(num_rows):\n",
    "    aqi = aqis.iloc[i]\n",
    "    if aqi <= 50:\n",
    "        classification.append('good')\n",
    "    elif aqi <= 100:\n",
    "        classification.append('moderate')\n",
    "    elif aqi <= 150:\n",
    "        classification.append('unhealthy sensitive groups')\n",
    "    elif aqi <= 200:\n",
    "        classification.append('unhealthy')\n",
    "    elif aqi <= 300:\n",
    "        classification.append('very unhealthy')\n",
    "    else:\n",
    "        classification.append('hazardous')\n",
    "        \n",
    "epa_withtra['classification'] = classification\n",
    "features = epa_withtra[['Temp Mean', 'Wind Mean', 'so2 Mean', 'AADT']]\n",
    "targets = epa_withtra['classification']\n",
    "\n",
    "features.head()\n"
   ]
  },
  {
   "cell_type": "code",
   "execution_count": 54,
   "id": "f5df3e40",
   "metadata": {
    "deletable": false,
    "editable": false
   },
   "outputs": [
    {
     "data": {
      "text/html": [
       "<p><strong><pre style='display: inline;'>q10b</pre></strong> passed!</p>"
      ],
      "text/plain": [
       "q10b results: All test cases passed!"
      ]
     },
     "execution_count": 54,
     "metadata": {},
     "output_type": "execute_result"
    }
   ],
   "source": [
    "grader.check(\"q10b\")"
   ]
  },
  {
   "cell_type": "markdown",
   "id": "26e15c8d",
   "metadata": {
    "deletable": false,
    "editable": false
   },
   "source": [
    "<br/>\n",
    "\n",
    "### Question 10c: Build Your Model!\n",
    "\n",
    "Create the `build_model` function as described at the beginning of this part. Make sure to read the specifications of the function very carefully. The autograder will provide some sanity checks on your output.\n",
    "\n",
    "<!--\n",
    "BEGIN QUESTION\n",
    "name: q10c\n",
    "points: 8\n",
    "-->"
   ]
  },
  {
   "cell_type": "code",
   "execution_count": 55,
   "id": "0436e7a7",
   "metadata": {},
   "outputs": [],
   "source": [
    "from sklearn import tree\n",
    "\n",
    "def build_model(features, targets):\n",
    "    decision_tree_model = tree.DecisionTreeClassifier()\n",
    "    decision_tree_model = decision_tree_model.fit(features, targets)\n",
    "    return decision_tree_model"
   ]
  },
  {
   "cell_type": "code",
   "execution_count": 56,
   "id": "4e7f4165",
   "metadata": {
    "deletable": false,
    "editable": false
   },
   "outputs": [
    {
     "data": {
      "text/html": [
       "<p><strong><pre style='display: inline;'>q10c</pre></strong> passed!</p>"
      ],
      "text/plain": [
       "q10c results: All test cases passed!"
      ]
     },
     "execution_count": 56,
     "metadata": {},
     "output_type": "execute_result"
    }
   ],
   "source": [
    "grader.check(\"q10c\")"
   ]
  },
  {
   "cell_type": "markdown",
   "id": "f38ca710",
   "metadata": {
    "deletable": false,
    "editable": false
   },
   "source": [
    "<br/>\n",
    "\n",
    "### Question 10d: Predict Points\n",
    "\n",
    "Create the `predict` function as described at the beginning of this part. Make sure to read the specifications of the function very carefully. The autograder will provide some sanity checks on your output.\n",
    "\n",
    "<!--\n",
    "BEGIN QUESTION\n",
    "name: q10d\n",
    "points: 4\n",
    "-->"
   ]
  },
  {
   "cell_type": "code",
   "execution_count": 57,
   "id": "1505232f",
   "metadata": {},
   "outputs": [],
   "source": [
    "categories = [\"good\", \"moderate\", \"unhealthy sensitive groups\", \"unhealthy\", \"very unhealthy\", \"hazardous\"]\n",
    "def predict(model, features):\n",
    "    AQI_pred = model.predict(features)\n",
    "    return AQI_pred"
   ]
  },
  {
   "cell_type": "code",
   "execution_count": 58,
   "id": "c8f75bd7",
   "metadata": {
    "deletable": false,
    "editable": false
   },
   "outputs": [
    {
     "data": {
      "text/html": [
       "<p><strong><pre style='display: inline;'>q10d</pre></strong> passed!</p>"
      ],
      "text/plain": [
       "q10d results: All test cases passed!"
      ]
     },
     "execution_count": 58,
     "metadata": {},
     "output_type": "execute_result"
    }
   ],
   "source": [
    "grader.check(\"q10d\")"
   ]
  },
  {
   "cell_type": "markdown",
   "id": "95796ead",
   "metadata": {
    "deletable": false,
    "editable": false
   },
   "source": [
    "<br/>\n",
    "\n",
    "### Question 10e: Model Validation and Performance\n",
    "\n",
    "Now that you have finished making your model, we want to see how well it performs on our data. In this question, use the following cell to split your data into training and validation sets. You should partition 70\\% of your data to be used as your training set, and the remaining to be used as your validation set. \n",
    "\n",
    "Assign `binary_error` to be the **fraction of inputs on your validation set that the your `predict` function classifies incorrectly.** Note that this is a binary loss in some sense as it assigns a loss of 1 to those points predicted incorrectly, and a loss of 0 to those points predicted correctly.\n",
    "\n",
    "Assign `cv_error` to be the the error on the validation set produced by the loss function $ L $ that you designed in question 3.\n",
    "\n",
    "*Hint*: you can use `train_test_split` from `sklearn`.\n",
    "\n",
    "<!--\n",
    "BEGIN QUESTION\n",
    "name: q10e\n",
    "points: 8\n",
    "-->"
   ]
  },
  {
   "cell_type": "code",
   "execution_count": 60,
   "id": "9b2a0333",
   "metadata": {},
   "outputs": [
    {
     "data": {
      "text/plain": [
       "(0.11635220125786164, 1.4678308450939543)"
      ]
     },
     "execution_count": 60,
     "metadata": {},
     "output_type": "execute_result"
    }
   ],
   "source": [
    "def entropy(x):\n",
    "    normalized_x = x / np.sum(x)\n",
    "    return sum(-normalized_x * np.log2(normalized_x))\n",
    "\n",
    "from sklearn.model_selection import train_test_split\n",
    "\n",
    "features_train, features_test, y_train, y_test = train_test_split(features, targets, test_size=0.30)\n",
    "y_fitted = predict(build_model(features_train, y_train), features_test)\n",
    "wrong_pred = sum(y_fitted != y_test)\n",
    "\n",
    "binary_error = wrong_pred / len(y_test)\n",
    "\n",
    "cat_count = []\n",
    "unique_cat =  list(set(y_fitted))\n",
    "for i in range(len(unique_cat)):\n",
    "    cat_count.append((y_fitted == unique_cat[i]).sum())\n",
    "                     \n",
    "cv_error = entropy(cat_count)\n",
    "binary_error, cv_error"
   ]
  },
  {
   "cell_type": "code",
   "execution_count": 61,
   "id": "60db0aa0",
   "metadata": {
    "deletable": false,
    "editable": false
   },
   "outputs": [
    {
     "data": {
      "text/html": [
       "<p><strong><pre style='display: inline;'>q10e</pre></strong> passed!</p>"
      ],
      "text/plain": [
       "q10e results: All test cases passed!"
      ]
     },
     "execution_count": 61,
     "metadata": {},
     "output_type": "execute_result"
    }
   ],
   "source": [
    "grader.check(\"q10e\")"
   ]
  },
  {
   "cell_type": "markdown",
   "id": "7c8b7e39",
   "metadata": {
    "tags": []
   },
   "source": [
    "<br/><br/>\n",
    "\n",
    "---\n",
    "## Part 5: Open-Ended Modeling\n",
    "\n",
    "Now that you have had some experience with creating the a model from scratch using the existing data, you are now ready to explore other questions, such as the ones in your design document. In this section, you will use the tools that we developed in the previous parts to answer the hypothesis of your choice! Note that breaking your model-building and analysis process into modularized functions as you did above will make your code more interpretable and less error-prone. "
   ]
  },
  {
   "cell_type": "markdown",
   "id": "303c6038",
   "metadata": {
    "deletable": false,
    "editable": false
   },
   "source": [
    "<!-- BEGIN QUESTION -->\n",
    "\n",
    "### Question 11a\n",
    "\n",
    "Train a baseline model of your choice using any supervised learning approach we have studied to answer your hypothesis and predict something related to AQI; you are not limited to a linear model. However, you may use a maximum of **three features** for this part. After training, evaluate it on some validation data that you hold out yourself. \n",
    "\n",
    "<!--\n",
    "BEGIN QUESTION\n",
    "name: q11a\n",
    "points: 5\n",
    "manual: True\n",
    "-->"
   ]
  },
  {
   "cell_type": "code",
   "execution_count": 62,
   "id": "62b08e29",
   "metadata": {},
   "outputs": [
    {
     "data": {
      "text/html": [
       "<div>\n",
       "<style scoped>\n",
       "    .dataframe tbody tr th:only-of-type {\n",
       "        vertical-align: middle;\n",
       "    }\n",
       "\n",
       "    .dataframe tbody tr th {\n",
       "        vertical-align: top;\n",
       "    }\n",
       "\n",
       "    .dataframe thead th {\n",
       "        text-align: right;\n",
       "    }\n",
       "</style>\n",
       "<table border=\"1\" class=\"dataframe\">\n",
       "  <thead>\n",
       "    <tr style=\"text-align: right;\">\n",
       "      <th></th>\n",
       "      <th>State Name</th>\n",
       "      <th>County Name</th>\n",
       "      <th>Year</th>\n",
       "      <th>Month</th>\n",
       "      <th>Day</th>\n",
       "      <th>AQI</th>\n",
       "      <th>Category</th>\n",
       "      <th>Defining Site</th>\n",
       "      <th>Latitude</th>\n",
       "      <th>Longitude</th>\n",
       "      <th>Temp Mean</th>\n",
       "      <th>Wind Mean</th>\n",
       "      <th>no2 Mean</th>\n",
       "      <th>density</th>\n",
       "      <th>so2 Mean</th>\n",
       "    </tr>\n",
       "  </thead>\n",
       "  <tbody>\n",
       "    <tr>\n",
       "      <th>78</th>\n",
       "      <td>California</td>\n",
       "      <td>Fresno</td>\n",
       "      <td>2020</td>\n",
       "      <td>1</td>\n",
       "      <td>2</td>\n",
       "      <td>102</td>\n",
       "      <td>Unhealthy for Sensitive Groups</td>\n",
       "      <td>06-019-0011</td>\n",
       "      <td>36.78538</td>\n",
       "      <td>-119.77321</td>\n",
       "      <td>47.433333</td>\n",
       "      <td>0.912500</td>\n",
       "      <td>13.830435</td>\n",
       "      <td>1371.1408</td>\n",
       "      <td>0.066667</td>\n",
       "    </tr>\n",
       "    <tr>\n",
       "      <th>79</th>\n",
       "      <td>California</td>\n",
       "      <td>Fresno</td>\n",
       "      <td>2020</td>\n",
       "      <td>1</td>\n",
       "      <td>2</td>\n",
       "      <td>102</td>\n",
       "      <td>Unhealthy for Sensitive Groups</td>\n",
       "      <td>06-019-0011</td>\n",
       "      <td>36.78538</td>\n",
       "      <td>-119.77321</td>\n",
       "      <td>47.433333</td>\n",
       "      <td>0.912500</td>\n",
       "      <td>13.830435</td>\n",
       "      <td>1371.1408</td>\n",
       "      <td>0.037500</td>\n",
       "    </tr>\n",
       "    <tr>\n",
       "      <th>80</th>\n",
       "      <td>California</td>\n",
       "      <td>Fresno</td>\n",
       "      <td>2020</td>\n",
       "      <td>1</td>\n",
       "      <td>3</td>\n",
       "      <td>88</td>\n",
       "      <td>Moderate</td>\n",
       "      <td>06-019-0011</td>\n",
       "      <td>36.78538</td>\n",
       "      <td>-119.77321</td>\n",
       "      <td>51.441667</td>\n",
       "      <td>1.000000</td>\n",
       "      <td>16.465217</td>\n",
       "      <td>1371.1408</td>\n",
       "      <td>0.141667</td>\n",
       "    </tr>\n",
       "    <tr>\n",
       "      <th>81</th>\n",
       "      <td>California</td>\n",
       "      <td>Fresno</td>\n",
       "      <td>2020</td>\n",
       "      <td>1</td>\n",
       "      <td>3</td>\n",
       "      <td>88</td>\n",
       "      <td>Moderate</td>\n",
       "      <td>06-019-0011</td>\n",
       "      <td>36.78538</td>\n",
       "      <td>-119.77321</td>\n",
       "      <td>51.441667</td>\n",
       "      <td>1.000000</td>\n",
       "      <td>16.465217</td>\n",
       "      <td>1371.1408</td>\n",
       "      <td>0.112500</td>\n",
       "    </tr>\n",
       "    <tr>\n",
       "      <th>82</th>\n",
       "      <td>California</td>\n",
       "      <td>Fresno</td>\n",
       "      <td>2020</td>\n",
       "      <td>1</td>\n",
       "      <td>5</td>\n",
       "      <td>55</td>\n",
       "      <td>Moderate</td>\n",
       "      <td>06-019-0011</td>\n",
       "      <td>36.78538</td>\n",
       "      <td>-119.77321</td>\n",
       "      <td>47.204167</td>\n",
       "      <td>2.904167</td>\n",
       "      <td>4.386957</td>\n",
       "      <td>1371.1408</td>\n",
       "      <td>0.000000</td>\n",
       "    </tr>\n",
       "  </tbody>\n",
       "</table>\n",
       "</div>"
      ],
      "text/plain": [
       "    State Name County Name  Year  Month  Day  AQI  \\\n",
       "78  California      Fresno  2020      1    2  102   \n",
       "79  California      Fresno  2020      1    2  102   \n",
       "80  California      Fresno  2020      1    3   88   \n",
       "81  California      Fresno  2020      1    3   88   \n",
       "82  California      Fresno  2020      1    5   55   \n",
       "\n",
       "                          Category Defining Site  Latitude  Longitude  \\\n",
       "78  Unhealthy for Sensitive Groups   06-019-0011  36.78538 -119.77321   \n",
       "79  Unhealthy for Sensitive Groups   06-019-0011  36.78538 -119.77321   \n",
       "80                        Moderate   06-019-0011  36.78538 -119.77321   \n",
       "81                        Moderate   06-019-0011  36.78538 -119.77321   \n",
       "82                        Moderate   06-019-0011  36.78538 -119.77321   \n",
       "\n",
       "    Temp Mean  Wind Mean   no2 Mean    density  so2 Mean  \n",
       "78  47.433333   0.912500  13.830435  1371.1408  0.066667  \n",
       "79  47.433333   0.912500  13.830435  1371.1408  0.037500  \n",
       "80  51.441667   1.000000  16.465217  1371.1408  0.141667  \n",
       "81  51.441667   1.000000  16.465217  1371.1408  0.112500  \n",
       "82  47.204167   2.904167   4.386957  1371.1408  0.000000  "
      ]
     },
     "execution_count": 62,
     "metadata": {},
     "output_type": "execute_result"
    }
   ],
   "source": [
    "pop_density = pd.read_csv(\"data/population_density.csv\")\n",
    "pop_density.rename(columns={'CTYNAME':'County', 'pop2021':'population', 'popDensity':'density'}, inplace=True)\n",
    "pop_density['County'] = pop_density['County'].str.split(' County', expand=True)[0]\n",
    "pop_density = pop_density.loc[:, {'County', 'density'}]\n",
    "epa_withpop = epa_all.merge(pop_density, how = 'left', left_on = 'County Name', right_on = 'County')\n",
    "epa_withpop = epa_withpop.drop('County', 1).rename(columns = {'population': 'Population'})\n",
    "epa_withpop = epa_withpop.merge(ca_so2_2020, how = 'left', left_on=['Year', 'Defining Site', 'Month', 'Day'], right_on=['Year', 'Defining Site', 'Month', 'Day'])\n",
    "epa_withpop = epa_withpop.dropna()\n",
    "epa_withpop.head()"
   ]
  },
  {
   "cell_type": "code",
   "execution_count": 63,
   "id": "0e9466a0-9f3e-471f-b90a-6a2745a0d7d8",
   "metadata": {},
   "outputs": [
    {
     "data": {
      "text/plain": [
       "78    102\n",
       "79    102\n",
       "80     88\n",
       "81     88\n",
       "82     55\n",
       "Name: AQI, dtype: int64"
      ]
     },
     "execution_count": 63,
     "metadata": {},
     "output_type": "execute_result"
    }
   ],
   "source": [
    "\n",
    "\n",
    "from sklearn import linear_model as lm\n",
    "def build_model_linear(features, targets):\n",
    "    reg = lm.LinearRegression(fit_intercept=True).fit(features, targets)\n",
    "    return reg\n",
    "\n",
    "\n",
    "categories_11a = [\"good\", \"moderate\", \"unhealthy sensitive groups\", \"unhealthy\", \"very unhealthy\", \"hazardous\"]\n",
    "bins = [-np.inf] + list(epa_withpop.groupby('Category').agg(max).sort_values('AQI', ascending = True).loc[:, 'AQI'])\n",
    "def predict_linear(model, features):\n",
    "    AQI_pred = model.predict(features)\n",
    "    return AQI_pred\n",
    "\n",
    "def classify(aqis):\n",
    "    classification = []\n",
    "    for aqi in aqis:\n",
    "        if aqi <= 50:\n",
    "            classification.append('good')\n",
    "        elif aqi <= 100:\n",
    "            classification.append('moderate')\n",
    "        elif aqi <= 150:\n",
    "            classification.append('unhealthy sensitive groups')\n",
    "        elif aqi <= 200:\n",
    "            classification.append('unhealthy')\n",
    "        elif aqi <= 300:\n",
    "            classification.append('very unhealthy')\n",
    "        else:\n",
    "            classification.append('hazardous')\n",
    "    return classification\n",
    "\n",
    "categories_11a1 = epa_withpop['Category']\n",
    "new_cat = []\n",
    "for i in range(len(categories_11a1)):\n",
    "    if categories_11a1.iloc[i] == 'Good':\n",
    "        new_cat.append('good')\n",
    "    elif categories_11a1.iloc[i] == 'Moderate':\n",
    "        new_cat.append('moderate')\n",
    "    elif categories_11a1.iloc[i] == 'Unhealthy for Sensitive Groups':\n",
    "        new_cat.append('unhealthy sensitive groups')\n",
    "    elif categories_11a1.iloc[i] == 'Unhealthy':\n",
    "        new_cat.append('unhealthy')\n",
    "    elif categories_11a1.iloc[i] == 'Very Unhealthy':\n",
    "        new_cat.append('very unhealthy')\n",
    "    else:\n",
    "        new_cat.append('hazardous')\n",
    "\n",
    "epa_withpop['classification'] = new_cat\n",
    "features_11a = epa_withpop[['Wind Mean', 'so2 Mean', 'density']]\n",
    "targets_11a = epa_withpop['AQI']\n",
    "features_11a.head()\n",
    "targets_11a.head()"
   ]
  },
  {
   "cell_type": "code",
   "execution_count": 64,
   "id": "02909035-848a-4825-b970-ddb3de7b856b",
   "metadata": {},
   "outputs": [
    {
     "data": {
      "text/plain": [
       "(0.3801916932907348, 637.8551261810167)"
      ]
     },
     "execution_count": 64,
     "metadata": {},
     "output_type": "execute_result"
    }
   ],
   "source": [
    "from sklearn.model_selection import train_test_split\n",
    "features_train, features_test, y_train, y_test = train_test_split(features_11a, targets_11a, test_size=0.30, random_state=42)\n",
    "model = build_model_linear(features_train, y_train)\n",
    "\n",
    "y_fitted = predict_linear(model, features_test)\n",
    "\n",
    "y_fitted_cat = classify(y_fitted)\n",
    "y_test_cat = classify(y_test)\n",
    "correct_pred = sum([y_fitted_cat[i] == y_test_cat[i] for i in range(len(y_test_cat))])\n",
    "\n",
    "binary_error = (len(y_test) - correct_pred) / len(y_test)\n",
    "\n",
    "def mse(y_predit, y):\n",
    "    return sum((y_predit - y) ** 2) / len(y_fitted)\n",
    "\n",
    "cv_error = mse(y_fitted, y_test) \n",
    "binary_error, cv_error"
   ]
  },
  {
   "cell_type": "markdown",
   "id": "f2558166",
   "metadata": {
    "deletable": false,
    "editable": false
   },
   "source": [
    "<!-- END QUESTION -->\n",
    "\n",
    "<!-- BEGIN QUESTION -->\n",
    "\n",
    "### Question 11b\n",
    "\n",
    "Explain and summarize the model that you used. In your summary, make sure to include the model description, the inputs, the outputs, as well as the cross-validation error. Additionally, talk a little bit about what you would change to your baseline model to improve it. The expected length of your summary should be 8-12 sentences. \n",
    "\n",
    "<!--\n",
    "BEGIN QUESTION\n",
    "name: q11b\n",
    "points: 2\n",
    "manual: True\n",
    "-->"
   ]
  },
  {
   "cell_type": "markdown",
   "id": "82cf47b9",
   "metadata": {},
   "source": [
    "We used linear regression model, 3 features (averag wind speed, average so2 level, and population density) as inputs, and the predicted category as output. The binary error is 0.38, which is relatively high. Since category is not a quantitative variable, we used predicted AQI and actual AQI level to compute the mean square error. The mse is 637, which is also pretty high. There are lots of rooms for improvements. We can add more features like traffic level in Q10. Also, since the result we predict is quanlitative, linear regression may not be the best tool. Therefore we plan to change our model to decision tree, which we expect to produce a better result than linear regression."
   ]
  },
  {
   "cell_type": "markdown",
   "id": "6d4b2852",
   "metadata": {
    "deletable": false,
    "editable": false
   },
   "source": [
    "<!-- END QUESTION -->\n",
    "\n",
    "<!-- BEGIN QUESTION -->\n",
    "\n",
    "### Question 11c\n",
    "\n",
    "Improve your model from part 11a based on the improvements that you suggested in part 11b. This could be the addition of more features, performing additional transformations on your features, increasing/decreasing the complexity of the model itself, or really anything else. You have no limitation on the number of features you can use, but you are required to use at least **one external dataset** that you process and merge in yourself. \n",
    "\n",
    "<!--\n",
    "BEGIN QUESTION\n",
    "name: q11c\n",
    "points: 8\n",
    "manual: True\n",
    "-->"
   ]
  },
  {
   "cell_type": "code",
   "execution_count": 66,
   "id": "60a5bcb0",
   "metadata": {},
   "outputs": [],
   "source": [
    "epa_withpop_tra = epa_withpop.merge(gpd_epa_traffic.loc[:, ['Defining Site', 'Month', 'Day', 'AADT']], how = 'left', left_on = ['Defining Site', 'Month', 'Day'],right_on = ['Defining Site', 'Month', 'Day'])\n",
    "\n",
    "feature_original = epa_withpop_tra[['Temp Mean', 'Wind Mean', 'so2 Mean']]\n",
    "feature_withpop = features_only_density = epa_withpop_tra[['Temp Mean', 'Wind Mean', 'so2 Mean', 'density']]\n",
    "\n",
    "features_only_density = epa_withpop_tra[['density']]\n",
    "features_only_so2 = epa_withpop_tra[['so2 Mean']]\n",
    "features_only_temp = epa_withpop_tra[['Temp Mean']]\n",
    "features_only_wind = epa_withpop_tra[['Wind Mean']]\n",
    "features_only_AADT = epa_withpop_tra[['AADT']]\n",
    "\n",
    "targets_impmodel = epa_withpop_tra['Category']\n",
    "\n",
    "from sklearn import tree\n",
    "\n",
    "def dicision_tree(features, targets):\n",
    "    decision_tree_model = tree.DecisionTreeClassifier()\n",
    "    decision_tree_model = decision_tree_model.fit(features, targets)\n",
    "    return decision_tree_model\n",
    "\n",
    "categories = [\"good\", \"moderate\", \"unhealthy sensitive groups\", \"unhealthy\", \"very unhealthy\", \"hazardous\"]\n",
    "def decision_tree_predict(model, features):\n",
    "    AQI_pred = model.predict(features)\n",
    "    return AQI_pred\n"
   ]
  },
  {
   "cell_type": "code",
   "execution_count": 67,
   "id": "9a60df53-4dcb-43a0-b22e-3b508ab52e36",
   "metadata": {},
   "outputs": [
    {
     "data": {
      "text/plain": [
       "(0.09748427672955975, 1.523118617844454)"
      ]
     },
     "execution_count": 67,
     "metadata": {},
     "output_type": "execute_result"
    }
   ],
   "source": [
    "from sklearn.model_selection import train_test_split\n",
    "features_train, features_test, y_train, y_test = train_test_split(feature_withpop, targets_impmodel, test_size=0.30)\n",
    "y_fitted = predict(build_model(features_train, y_train), features_test)\n",
    "\n",
    "wrong_pred = sum(y_fitted != y_test)\n",
    "\n",
    "binary_error = wrong_pred / len(y_test)\n",
    "\n",
    "\n",
    "cat_count = []\n",
    "unique_cat =  list(set(y_fitted))\n",
    "for i in range(len(unique_cat)):\n",
    "    cat_count.append((y_fitted == unique_cat[i]).sum())\n",
    "                     \n",
    "cv_error = entropy(cat_count)\n",
    "binary_error, cv_error"
   ]
  },
  {
   "cell_type": "code",
   "execution_count": 68,
   "id": "3263c2e6-c58a-4ccd-8685-6416e8e047a5",
   "metadata": {},
   "outputs": [
    {
     "data": {
      "text/plain": [
       "Ttest_indResult(statistic=-13.432581006314921, pvalue=1.9178703208639383e-39)"
      ]
     },
     "execution_count": 68,
     "metadata": {},
     "output_type": "execute_result"
    }
   ],
   "source": [
    "\n",
    "def entropy(x):\n",
    "    normalized_x = x / np.sum(x)\n",
    "    return np.sum(-normalized_x * np.log2(normalized_x))\n",
    "\n",
    "from sklearn.model_selection import train_test_split\n",
    "\n",
    "#without population\n",
    "binary_error_original_all = []\n",
    "binary_error_withpop_all = []\n",
    "for _ in range(1000):\n",
    "    features_train_original, features_test_original, y_train_original, y_test_original = train_test_split(feature_original, targets_impmodel, test_size=0.30)\n",
    "    features_train_withpop, features_test_withpop, y_train_withpop, y_test_withpop = train_test_split(feature_withpop, targets_impmodel, test_size=0.30)\n",
    "    y_fitted_original = decision_tree_predict(dicision_tree(features_train_original, y_train_original), features_test_original)\n",
    "    y_fitted_withpop = decision_tree_predict(dicision_tree(features_train_withpop, y_train_withpop), features_test_withpop)\n",
    "    wrong_pred_original = sum(y_fitted_original != y_test_original)\n",
    "    wrong_pred_withpop = sum(y_fitted_withpop != y_test_withpop)\n",
    "    binary_error_original = wrong_pred_original / len(y_test_original)\n",
    "    binary_error_withpop = wrong_pred_withpop / len(y_test_withpop)\n",
    "\n",
    "    binary_error_original_all.append(binary_error_original)\n",
    "    binary_error_withpop_all.append(binary_error_withpop)\n",
    "\n",
    "\n",
    "from scipy.stats import ttest_ind\n",
    "ttest_ind(binary_error_withpop_all, binary_error_original_all, equal_var = False)"
   ]
  },
  {
   "cell_type": "code",
   "execution_count": 69,
   "id": "6091dbc5-f06d-43f0-a6f9-4e3e7d239072",
   "metadata": {},
   "outputs": [
    {
     "data": {
      "image/png": "[encoded data removed]",
      "text/plain": [
       "<Figure size 1080x576 with 1 Axes>"
      ]
     },
     "metadata": {},
     "output_type": "display_data"
    }
   ],
   "source": [
    "import seaborn as sns\n",
    "sns.set(rc = {'figure.figsize':(15,8)})\n",
    "sns.set_style('whitegrid')\n",
    "sns.kdeplot(binary_error_withpop_all, bw=0.5, label='with population density')\n",
    "sns.kdeplot(binary_error_original_all, bw=0.5, label ='without population density')\n",
    "plt.legend()\n",
    "plt.title('Binary Error for 100 Decision Tree Model With vs Without Population Density')\n",
    "plt.xlabel('Binary Error')\n",
    "plt.ylabel('Population Density');"
   ]
  },
  {
   "cell_type": "markdown",
   "id": "62956358",
   "metadata": {
    "deletable": false,
    "editable": false
   },
   "source": [
    "<!-- END QUESTION -->\n",
    "\n",
    "<!-- BEGIN QUESTION -->\n",
    "\n",
    "### Question 11d\n",
    "\n",
    "Compare and contrast your baseline model and (hopefully) improved model. Make sure to compare their validation errors. Were you able to successfully answer your research question and evaluate your hypothesis? Summarize in a few sentences the conclusions that you can draw from your model and predictions. The expected length of your response should be 8-10 sentences. \n",
    "\n",
    "<!--\n",
    "BEGIN QUESTION\n",
    "name: q11d\n",
    "points: 3\n",
    "manual: True\n",
    "-->"
   ]
  },
  {
   "cell_type": "markdown",
   "id": "c541f7ef",
   "metadata": {},
   "source": [
    "After including mroe variables and changing our model from linear regression to decision tree, the prediction is noticeably more accurate. The binary error decreases from around 0.4 to around 0.15, a significant improvement. Also, we conducted a t-test to answer our hypothesis that population density is correlated with AQI level. We calculated the binary error for 2 models, 1 with population density and 1 without, each 100 times and got the average value. As a result, the t-value is -5, and the correponding p-value is 10 ^-8, which is significantly less than 0.05. Thus, we accept out hypothesis that population density is correlated with AQI level."
   ]
  },
  {
   "cell_type": "markdown",
   "id": "a8758917",
   "metadata": {
    "deletable": false,
    "editable": false
   },
   "source": [
    "---\n",
    "\n",
    "To double-check your work, the cell below will rerun all of the autograder tests."
   ]
  },
  {
   "cell_type": "code",
   "execution_count": 70,
   "id": "4521edc4",
   "metadata": {
    "deletable": false,
    "editable": false
   },
   "outputs": [
    {
     "data": {
      "text/plain": [
       "q10b results: All test cases passed!\n",
       "\n",
       "q10c results: All test cases passed!\n",
       "\n",
       "q10d results: All test cases passed!\n",
       "\n",
       "q10e results: All test cases passed!\n",
       "\n",
       "q1a results: All test cases passed!\n",
       "\n",
       "q1b results: All test cases passed!\n",
       "\n",
       "q1c results: All test cases passed!\n",
       "\n",
       "q2a results: All test cases passed!\n",
       "\n",
       "q2b results: All test cases passed!\n",
       "\n",
       "q3a results: All test cases passed!\n",
       "\n",
       "q4a results: All test cases passed!\n",
       "\n",
       "q4i results: All test cases passed!\n",
       "\n",
       "q5a results: All test cases passed!\n",
       "\n",
       "q6a results: All test cases passed!\n",
       "\n",
       "q6b results: All test cases passed!\n",
       "\n",
       "q8a results: All test cases passed!\n",
       "\n",
       "q8b results: All test cases passed!"
      ]
     },
     "execution_count": 70,
     "metadata": {},
     "output_type": "execute_result"
    }
   ],
   "source": [
    "grader.check_all()"
   ]
  },
  {
   "cell_type": "markdown",
   "id": "9946713b",
   "metadata": {
    "deletable": false,
    "editable": false,
    "tags": []
   },
   "source": [
    "## Submission\n",
    "\n",
    "Make sure you have run all cells in your notebook in order before running the cell below, so that all images/graphs appear in the output. The cell below will generate a zip file for you to submit. **Please save before exporting!**"
   ]
  },
  {
   "cell_type": "code",
   "execution_count": 66,
   "id": "d43d5a5c",
   "metadata": {
    "deletable": false,
    "editable": false
   },
   "outputs": [
    {
     "data": {
      "text/html": [
       "\n",
       "            <p>Your submission has been exported. Click <a href=\"AQI_2021_12_11T17_43_30_251172.zip\" download=\"AQI_2021_12_11T17_43_30_251172.zip\" target=\"_blank\">here</a>\n",
       "            to download the zip file.</p>\n",
       "            "
      ],
      "text/plain": [
       "<IPython.core.display.HTML object>"
      ]
     },
     "metadata": {},
     "output_type": "display_data"
    }
   ],
   "source": [
    "# Save your notebook first, then run this cell to export your submission.\n",
    "grader.export()"
   ]
  },
  {
   "cell_type": "markdown",
   "id": "b6d88d47",
   "metadata": {},
   "source": [
    " "
   ]
  }
 ],
 "metadata": {
  "kernelspec": {
   "display_name": "Python 3 (ipykernel)",
   "language": "python",
   "name": "python3"
  },
  "language_info": {
   "codemirror_mode": {
    "name": "ipython",
    "version": 3
   },
   "file_extension": ".py",
   "mimetype": "text/x-python",
   "name": "python",
   "nbconvert_exporter": "python",
   "pygments_lexer": "ipython3",
   "version": "3.9.7"
  }
 },
 "nbformat": 4,
 "nbformat_minor": 5
}
